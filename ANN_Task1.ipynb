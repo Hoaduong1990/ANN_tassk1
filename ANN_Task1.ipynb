{
 "cells": [
  {
   "cell_type": "code",
   "execution_count": 1,
   "metadata": {
    "ExecuteTime": {
     "end_time": "2021-03-05T19:11:25.916703Z",
     "start_time": "2021-03-05T19:11:16.812672Z"
    }
   },
   "outputs": [],
   "source": [
    "import tensorflow as tf\n",
    "import tensorflow.keras as keras\n",
    "import numpy as np\n",
    "import pandas as pd\n",
    "import matplotlib.pyplot as plt\n",
    "import seaborn as sns"
   ]
  },
  {
   "cell_type": "code",
   "execution_count": 2,
   "metadata": {
    "ExecuteTime": {
     "end_time": "2021-03-05T19:11:27.727549Z",
     "start_time": "2021-03-05T19:11:25.919709Z"
    }
   },
   "outputs": [],
   "source": [
    "(X_train,y_train),(X_test,y_test) = keras.datasets.cifar10.load_data()"
   ]
  },
  {
   "cell_type": "code",
   "execution_count": 3,
   "metadata": {
    "ExecuteTime": {
     "end_time": "2021-03-05T19:11:30.498734Z",
     "start_time": "2021-03-05T19:11:27.731758Z"
    }
   },
   "outputs": [],
   "source": [
    "#scale the images\n",
    "X_train, X_test = X_train/255, X_test/255"
   ]
  },
  {
   "cell_type": "code",
   "execution_count": 4,
   "metadata": {
    "ExecuteTime": {
     "end_time": "2021-03-05T19:11:30.513237Z",
     "start_time": "2021-03-05T19:11:30.502473Z"
    }
   },
   "outputs": [
    {
     "data": {
      "text/plain": [
       "(32, 32, 3)"
      ]
     },
     "execution_count": 4,
     "metadata": {},
     "output_type": "execute_result"
    }
   ],
   "source": [
    "X_train[0].shape"
   ]
  },
  {
   "cell_type": "code",
   "execution_count": 5,
   "metadata": {
    "ExecuteTime": {
     "end_time": "2021-03-05T19:11:30.541910Z",
     "start_time": "2021-03-05T19:11:30.516387Z"
    }
   },
   "outputs": [
    {
     "data": {
      "text/plain": [
       "((array([0, 1, 2, 3, 4, 5, 6, 7, 8, 9], dtype=uint8),\n",
       "  array([5000, 5000, 5000, 5000, 5000, 5000, 5000, 5000, 5000, 5000])),\n",
       " (array([0, 1, 2, 3, 4, 5, 6, 7, 8, 9], dtype=uint8),\n",
       "  array([1000, 1000, 1000, 1000, 1000, 1000, 1000, 1000, 1000, 1000])))"
      ]
     },
     "execution_count": 5,
     "metadata": {},
     "output_type": "execute_result"
    }
   ],
   "source": [
    "np.unique(y_train,return_counts=True), np.unique(y_test,return_counts=True)"
   ]
  },
  {
   "cell_type": "code",
   "execution_count": 363,
   "metadata": {
    "ExecuteTime": {
     "end_time": "2021-03-07T20:44:21.842951Z",
     "start_time": "2021-03-07T20:44:21.603120Z"
    },
    "scrolled": true
   },
   "outputs": [
    {
     "data": {
      "text/plain": [
       "<matplotlib.image.AxesImage at 0x7fcb025c5430>"
      ]
     },
     "execution_count": 363,
     "metadata": {},
     "output_type": "execute_result"
    },
    {
     "data": {
      "image/png": "[encoded data removed]",
      "text/plain": [
       "<Figure size 432x288 with 1 Axes>"
      ]
     },
     "metadata": {
      "needs_background": "light"
     },
     "output_type": "display_data"
    }
   ],
   "source": [
    "plt.imshow(X_train[5])"
   ]
  },
  {
   "cell_type": "code",
   "execution_count": 7,
   "metadata": {
    "ExecuteTime": {
     "end_time": "2021-03-05T19:11:30.833221Z",
     "start_time": "2021-03-05T19:11:30.829686Z"
    }
   },
   "outputs": [],
   "source": [
    "# - Build a DNN\n",
    "# - try different varients of relu\n",
    "# - also use the different weight initialization\n",
    "# - use the model callback for early stopping, model checkpoint save , tensorboard and also the learning rate scheduling( try to use onecycle schudler)\n",
    "# - use the different regularization like alphadropout, dropout, batch normalization and l1-l2 regulaization\n",
    "# - check the accuracy getting the accuracy between (50-60 )% is a baseline\n",
    "# - do the model inference and plot the graph"
   ]
  },
  {
   "cell_type": "markdown",
   "metadata": {},
   "source": [
    "# Models, activitations functions and initializers"
   ]
  },
  {
   "cell_type": "markdown",
   "metadata": {},
   "source": [
    "## Relu"
   ]
  },
  {
   "cell_type": "code",
   "execution_count": 8,
   "metadata": {
    "ExecuteTime": {
     "end_time": "2021-03-05T19:11:30.956702Z",
     "start_time": "2021-03-05T19:11:30.836894Z"
    }
   },
   "outputs": [],
   "source": [
    "tf.random.set_seed(42)\n",
    "np.random.seed(42)\n",
    "\n",
    "#start by using ONLY a few layers\n",
    "relu = keras.models.Sequential([\n",
    "    keras.layers.Flatten(input_shape=[32,32,3]),\n",
    "    keras.layers.Dense(256,activation=\"relu\",kernel_initializer=\"he_normal\"),\n",
    "    keras.layers.Dense(128,activation=\"relu\",kernel_initializer=\"he_normal\"),\n",
    "    keras.layers.Dense(10,activation=\"softmax\",kernel_initializer= keras.initializers.glorot_normal)\n",
    "])\n",
    "\n",
    "#using the default optimizer, \n",
    "relu.compile(loss=keras.losses.sparse_categorical_crossentropy,\n",
    "                           metrics=\"accuracy\")"
   ]
  },
  {
   "cell_type": "code",
   "execution_count": 9,
   "metadata": {
    "ExecuteTime": {
     "end_time": "2021-03-05T19:12:34.870875Z",
     "start_time": "2021-03-05T19:11:30.962225Z"
    }
   },
   "outputs": [
    {
     "name": "stdout",
     "output_type": "stream",
     "text": [
      "Epoch 1/10\n",
      "1250/1250 [==============================] - 11s 9ms/step - loss: 1.9937 - accuracy: 0.2927 - val_loss: 1.7976 - val_accuracy: 0.3506\n",
      "Epoch 2/10\n",
      "1250/1250 [==============================] - 9s 7ms/step - loss: 1.7398 - accuracy: 0.3789 - val_loss: 1.7022 - val_accuracy: 0.3952\n",
      "Epoch 3/10\n",
      "1250/1250 [==============================] - 7s 6ms/step - loss: 1.6728 - accuracy: 0.4036 - val_loss: 1.6417 - val_accuracy: 0.4186\n",
      "Epoch 4/10\n",
      "1250/1250 [==============================] - 5s 4ms/step - loss: 1.6271 - accuracy: 0.4210 - val_loss: 1.6400 - val_accuracy: 0.4186\n",
      "Epoch 5/10\n",
      "1250/1250 [==============================] - 5s 4ms/step - loss: 1.5901 - accuracy: 0.4336 - val_loss: 1.6045 - val_accuracy: 0.4318\n",
      "Epoch 6/10\n",
      "1250/1250 [==============================] - 5s 4ms/step - loss: 1.5701 - accuracy: 0.4424 - val_loss: 1.5975 - val_accuracy: 0.4365\n",
      "Epoch 7/10\n",
      "1250/1250 [==============================] - 5s 4ms/step - loss: 1.5540 - accuracy: 0.4500 - val_loss: 1.6503 - val_accuracy: 0.4349\n",
      "Epoch 8/10\n",
      "1250/1250 [==============================] - 5s 4ms/step - loss: 1.5400 - accuracy: 0.4538 - val_loss: 1.6033 - val_accuracy: 0.4382\n",
      "Epoch 9/10\n",
      "1250/1250 [==============================] - 5s 4ms/step - loss: 1.5298 - accuracy: 0.4578 - val_loss: 1.5645 - val_accuracy: 0.4466\n",
      "Epoch 10/10\n",
      "1250/1250 [==============================] - 5s 4ms/step - loss: 1.5210 - accuracy: 0.4616 - val_loss: 1.6035 - val_accuracy: 0.4501\n"
     ]
    }
   ],
   "source": [
    "relu_history=relu.fit(X_train,y_train,validation_split=0.2,epochs=10)"
   ]
  },
  {
   "cell_type": "code",
   "execution_count": 71,
   "metadata": {
    "ExecuteTime": {
     "end_time": "2021-03-05T19:32:40.656029Z",
     "start_time": "2021-03-05T19:32:40.651258Z"
    }
   },
   "outputs": [],
   "source": [
    "results=dict()\n",
    "results[\"relu\"] = pd.DataFrame(relu_history.history).iloc[-1,:].values.tolist()"
   ]
  },
  {
   "cell_type": "markdown",
   "metadata": {},
   "source": [
    "## LeakyRelu"
   ]
  },
  {
   "cell_type": "code",
   "execution_count": 11,
   "metadata": {
    "ExecuteTime": {
     "end_time": "2021-03-05T19:12:34.922835Z",
     "start_time": "2021-03-05T19:12:34.882391Z"
    }
   },
   "outputs": [],
   "source": [
    "tf.random.set_seed(42)\n",
    "np.random.seed(42)\n",
    "\n",
    "#start by using ONLY a few layers\n",
    "leaky = keras.models.Sequential([\n",
    "    keras.layers.Flatten(input_shape=[32,32,3]),\n",
    "    keras.layers.Dense(256,activation=keras.layers.LeakyReLU(),kernel_initializer=\"he_normal\"),\n",
    "    keras.layers.Dense(128,activation=keras.layers.LeakyReLU(),kernel_initializer=\"he_normal\"),\n",
    "    keras.layers.Dense(10,activation=\"softmax\",kernel_initializer= keras.initializers.glorot_normal)\n",
    "])\n",
    "\n",
    "#using the default optimizer, \n",
    "leaky.compile(loss=keras.losses.sparse_categorical_crossentropy,\n",
    "                           metrics=\"accuracy\")"
   ]
  },
  {
   "cell_type": "code",
   "execution_count": 12,
   "metadata": {
    "ExecuteTime": {
     "end_time": "2021-03-05T19:13:26.892079Z",
     "start_time": "2021-03-05T19:12:34.924338Z"
    }
   },
   "outputs": [
    {
     "name": "stdout",
     "output_type": "stream",
     "text": [
      "Epoch 1/10\n",
      "1250/1250 [==============================] - 5s 4ms/step - loss: 2.2857 - accuracy: 0.2498 - val_loss: 1.8790 - val_accuracy: 0.3168\n",
      "Epoch 2/10\n",
      "1250/1250 [==============================] - 5s 4ms/step - loss: 1.8949 - accuracy: 0.3320 - val_loss: 1.7325 - val_accuracy: 0.3830\n",
      "Epoch 3/10\n",
      "1250/1250 [==============================] - 5s 4ms/step - loss: 1.7743 - accuracy: 0.3732 - val_loss: 1.7459 - val_accuracy: 0.3814\n",
      "Epoch 4/10\n",
      "1250/1250 [==============================] - 5s 4ms/step - loss: 1.6912 - accuracy: 0.4020 - val_loss: 1.7980 - val_accuracy: 0.3783\n",
      "Epoch 5/10\n",
      "1250/1250 [==============================] - 5s 4ms/step - loss: 1.6330 - accuracy: 0.4201 - val_loss: 1.6317 - val_accuracy: 0.4223\n",
      "Epoch 6/10\n",
      "1250/1250 [==============================] - 5s 4ms/step - loss: 1.5904 - accuracy: 0.4334 - val_loss: 1.5841 - val_accuracy: 0.4382\n",
      "Epoch 7/10\n",
      "1250/1250 [==============================] - 5s 4ms/step - loss: 1.5540 - accuracy: 0.4488 - val_loss: 1.6532 - val_accuracy: 0.4325\n",
      "Epoch 8/10\n",
      "1250/1250 [==============================] - 5s 4ms/step - loss: 1.5218 - accuracy: 0.4613 - val_loss: 1.6464 - val_accuracy: 0.4227\n",
      "Epoch 9/10\n",
      "1250/1250 [==============================] - 5s 4ms/step - loss: 1.4925 - accuracy: 0.4664 - val_loss: 1.5837 - val_accuracy: 0.4518\n",
      "Epoch 10/10\n",
      "1250/1250 [==============================] - 6s 4ms/step - loss: 1.4688 - accuracy: 0.4785 - val_loss: 1.4723 - val_accuracy: 0.4886\n"
     ]
    }
   ],
   "source": [
    "history_leaky = leaky.fit(X_train,y_train,validation_split=0.2,epochs=10)"
   ]
  },
  {
   "cell_type": "code",
   "execution_count": 72,
   "metadata": {
    "ExecuteTime": {
     "end_time": "2021-03-05T19:32:45.934930Z",
     "start_time": "2021-03-05T19:32:45.930093Z"
    }
   },
   "outputs": [],
   "source": [
    "results[\"leaky\"]= pd.DataFrame(history_leaky.history).iloc[-1,:].values.tolist()"
   ]
  },
  {
   "cell_type": "markdown",
   "metadata": {},
   "source": [
    "## Prelu"
   ]
  },
  {
   "cell_type": "code",
   "execution_count": 14,
   "metadata": {
    "ExecuteTime": {
     "end_time": "2021-03-05T19:13:26.962709Z",
     "start_time": "2021-03-05T19:13:26.900210Z"
    }
   },
   "outputs": [],
   "source": [
    "tf.random.set_seed(42)\n",
    "np.random.seed(42)\n",
    "\n",
    "#start by using ONLY a few layers\n",
    "prelu = keras.models.Sequential([\n",
    "    keras.layers.Flatten(input_shape=[32,32,3]),\n",
    "    keras.layers.Dense(256,activation=keras.layers.PReLU(),kernel_initializer=\"he_normal\"),\n",
    "    keras.layers.Dense(128,activation=keras.layers.PReLU(),kernel_initializer=\"he_normal\"),\n",
    "    keras.layers.Dense(10,activation=\"softmax\",kernel_initializer= keras.initializers.glorot_normal)\n",
    "])\n",
    "\n",
    "#using the default optimizer, \n",
    "prelu.compile(loss=keras.losses.sparse_categorical_crossentropy,\n",
    "                           metrics=\"accuracy\")"
   ]
  },
  {
   "cell_type": "code",
   "execution_count": 15,
   "metadata": {
    "ExecuteTime": {
     "end_time": "2021-03-05T19:14:23.828506Z",
     "start_time": "2021-03-05T19:13:26.964409Z"
    },
    "scrolled": true
   },
   "outputs": [
    {
     "name": "stdout",
     "output_type": "stream",
     "text": [
      "Epoch 1/10\n",
      "1250/1250 [==============================] - 6s 5ms/step - loss: 2.1162 - accuracy: 0.2609 - val_loss: 1.8493 - val_accuracy: 0.3360\n",
      "Epoch 2/10\n",
      "1250/1250 [==============================] - 6s 4ms/step - loss: 1.8233 - accuracy: 0.3459 - val_loss: 1.8052 - val_accuracy: 0.3564\n",
      "Epoch 3/10\n",
      "1250/1250 [==============================] - 6s 4ms/step - loss: 1.7278 - accuracy: 0.3812 - val_loss: 1.7854 - val_accuracy: 0.3722\n",
      "Epoch 4/10\n",
      "1250/1250 [==============================] - 5s 4ms/step - loss: 1.6622 - accuracy: 0.4083 - val_loss: 1.8009 - val_accuracy: 0.3750\n",
      "Epoch 5/10\n",
      "1250/1250 [==============================] - 6s 4ms/step - loss: 1.6202 - accuracy: 0.4221 - val_loss: 1.6551 - val_accuracy: 0.4145\n",
      "Epoch 6/10\n",
      "1250/1250 [==============================] - 5s 4ms/step - loss: 1.5815 - accuracy: 0.4376 - val_loss: 1.6058 - val_accuracy: 0.4292\n",
      "Epoch 7/10\n",
      "1250/1250 [==============================] - 5s 4ms/step - loss: 1.5500 - accuracy: 0.4533 - val_loss: 1.6471 - val_accuracy: 0.4314\n",
      "Epoch 8/10\n",
      "1250/1250 [==============================] - 5s 4ms/step - loss: 1.5257 - accuracy: 0.4598 - val_loss: 1.6081 - val_accuracy: 0.4316\n",
      "Epoch 9/10\n",
      "1250/1250 [==============================] - 5s 4ms/step - loss: 1.4998 - accuracy: 0.4686 - val_loss: 1.5629 - val_accuracy: 0.4596\n",
      "Epoch 10/10\n",
      "1250/1250 [==============================] - 6s 4ms/step - loss: 1.4792 - accuracy: 0.4773 - val_loss: 1.5770 - val_accuracy: 0.4543\n"
     ]
    }
   ],
   "source": [
    "prelu_history = prelu.fit(X_train,y_train,validation_split=0.2,epochs=10)"
   ]
  },
  {
   "cell_type": "code",
   "execution_count": 73,
   "metadata": {
    "ExecuteTime": {
     "end_time": "2021-03-05T19:32:50.193936Z",
     "start_time": "2021-03-05T19:32:50.188559Z"
    }
   },
   "outputs": [],
   "source": [
    "results[\"prelu\"]= pd.DataFrame(prelu_history.history).iloc[-1,:].values.tolist()"
   ]
  },
  {
   "cell_type": "markdown",
   "metadata": {},
   "source": [
    "## Elu"
   ]
  },
  {
   "cell_type": "code",
   "execution_count": 17,
   "metadata": {
    "ExecuteTime": {
     "end_time": "2021-03-05T19:14:23.890755Z",
     "start_time": "2021-03-05T19:14:23.842322Z"
    }
   },
   "outputs": [],
   "source": [
    "tf.random.set_seed(42)\n",
    "np.random.seed(42)\n",
    "\n",
    "#start by using ONLY a few layers\n",
    "elu = keras.models.Sequential([\n",
    "    keras.layers.Flatten(input_shape=[32,32,3]),\n",
    "    keras.layers.Dense(256,activation=keras.layers.ELU(),kernel_initializer=\"he_normal\"),\n",
    "    keras.layers.Dense(128,activation=keras.layers.ELU(),kernel_initializer=\"he_normal\"),\n",
    "    keras.layers.Dense(10,activation=\"softmax\",kernel_initializer= keras.initializers.glorot_normal)\n",
    "])\n",
    "\n",
    "#using the default optimizer, \n",
    "elu.compile(loss=keras.losses.sparse_categorical_crossentropy,\n",
    "                           metrics=\"accuracy\")"
   ]
  },
  {
   "cell_type": "code",
   "execution_count": 18,
   "metadata": {
    "ExecuteTime": {
     "end_time": "2021-03-05T19:15:19.042833Z",
     "start_time": "2021-03-05T19:14:23.892242Z"
    }
   },
   "outputs": [
    {
     "name": "stdout",
     "output_type": "stream",
     "text": [
      "Epoch 1/10\n",
      "1250/1250 [==============================] - 6s 5ms/step - loss: 2.0902 - accuracy: 0.2745 - val_loss: 1.8762 - val_accuracy: 0.3330\n",
      "Epoch 2/10\n",
      "1250/1250 [==============================] - 5s 4ms/step - loss: 1.7719 - accuracy: 0.3682 - val_loss: 1.6608 - val_accuracy: 0.4056\n",
      "Epoch 3/10\n",
      "1250/1250 [==============================] - 5s 4ms/step - loss: 1.6812 - accuracy: 0.3999 - val_loss: 1.6433 - val_accuracy: 0.4183\n",
      "Epoch 4/10\n",
      "1250/1250 [==============================] - 5s 4ms/step - loss: 1.6221 - accuracy: 0.4216 - val_loss: 1.7847 - val_accuracy: 0.3770\n",
      "Epoch 5/10\n",
      "1250/1250 [==============================] - 5s 4ms/step - loss: 1.5738 - accuracy: 0.4388 - val_loss: 1.5606 - val_accuracy: 0.4472\n",
      "Epoch 6/10\n",
      "1250/1250 [==============================] - 5s 4ms/step - loss: 1.5365 - accuracy: 0.4547 - val_loss: 1.5425 - val_accuracy: 0.4584\n",
      "Epoch 7/10\n",
      "1250/1250 [==============================] - 5s 4ms/step - loss: 1.5035 - accuracy: 0.4649 - val_loss: 1.7861 - val_accuracy: 0.4157\n",
      "Epoch 8/10\n",
      "1250/1250 [==============================] - 5s 4ms/step - loss: 1.4733 - accuracy: 0.4757 - val_loss: 1.5795 - val_accuracy: 0.4382\n",
      "Epoch 9/10\n",
      "1250/1250 [==============================] - 5s 4ms/step - loss: 1.4492 - accuracy: 0.4871 - val_loss: 1.5445 - val_accuracy: 0.4695\n",
      "Epoch 10/10\n",
      "1250/1250 [==============================] - 5s 4ms/step - loss: 1.4254 - accuracy: 0.4965 - val_loss: 1.4974 - val_accuracy: 0.4829\n"
     ]
    }
   ],
   "source": [
    "elu_history = elu.fit(X_train,y_train,validation_split=0.2,epochs=10)"
   ]
  },
  {
   "cell_type": "code",
   "execution_count": 74,
   "metadata": {
    "ExecuteTime": {
     "end_time": "2021-03-05T19:32:55.443728Z",
     "start_time": "2021-03-05T19:32:55.438917Z"
    }
   },
   "outputs": [],
   "source": [
    "results[\"elu\"] =pd.DataFrame(elu_history.history).iloc[-1,:].values.tolist()"
   ]
  },
  {
   "cell_type": "markdown",
   "metadata": {},
   "source": [
    "## Selu"
   ]
  },
  {
   "cell_type": "code",
   "execution_count": 20,
   "metadata": {
    "ExecuteTime": {
     "end_time": "2021-03-05T19:15:23.327216Z",
     "start_time": "2021-03-05T19:15:19.051345Z"
    }
   },
   "outputs": [],
   "source": [
    "#normalize to have the data center around 0 and std = 1\n",
    "X_train_new=(X_train-X_train.mean(axis=0))/(X_train.std(axis=0))\n",
    "X_test_new=(X_test-X_test.mean(axis=0))/(X_test.std(axis=0))"
   ]
  },
  {
   "cell_type": "code",
   "execution_count": 21,
   "metadata": {
    "ExecuteTime": {
     "end_time": "2021-03-05T19:15:23.369949Z",
     "start_time": "2021-03-05T19:15:23.329246Z"
    }
   },
   "outputs": [],
   "source": [
    "tf.random.set_seed(42)\n",
    "np.random.seed(42)\n",
    "\n",
    "#start by using ONLY a few layers\n",
    "selu = keras.models.Sequential([\n",
    "    keras.layers.Flatten(input_shape=[32,32,3]),\n",
    "    keras.layers.Dense(256,activation=keras.activations.selu,kernel_initializer= keras.initializers.lecun_normal),\n",
    "    keras.layers.Dense(128,activation=keras.activations.selu,kernel_initializer=keras.initializers.lecun_normal),\n",
    "    keras.layers.Dense(10,activation=\"softmax\",kernel_initializer= keras.initializers.glorot_normal)\n",
    "])\n",
    "\n",
    "#using the default optimizer, \n",
    "selu.compile(loss=keras.losses.sparse_categorical_crossentropy,\n",
    "                           metrics=\"accuracy\")"
   ]
  },
  {
   "cell_type": "code",
   "execution_count": 22,
   "metadata": {
    "ExecuteTime": {
     "end_time": "2021-03-05T19:16:18.480614Z",
     "start_time": "2021-03-05T19:15:23.371517Z"
    }
   },
   "outputs": [
    {
     "name": "stdout",
     "output_type": "stream",
     "text": [
      "Epoch 1/10\n",
      "1250/1250 [==============================] - 5s 4ms/step - loss: 2.1350 - accuracy: 0.3519 - val_loss: 1.6797 - val_accuracy: 0.4138\n",
      "Epoch 2/10\n",
      "1250/1250 [==============================] - 5s 4ms/step - loss: 1.5758 - accuracy: 0.4463 - val_loss: 1.5680 - val_accuracy: 0.4537\n",
      "Epoch 3/10\n",
      "1250/1250 [==============================] - 5s 4ms/step - loss: 1.4419 - accuracy: 0.4893 - val_loss: 1.5377 - val_accuracy: 0.4699\n",
      "Epoch 4/10\n",
      "1250/1250 [==============================] - 5s 4ms/step - loss: 1.3559 - accuracy: 0.5220 - val_loss: 1.5033 - val_accuracy: 0.4849\n",
      "Epoch 5/10\n",
      "1250/1250 [==============================] - 5s 4ms/step - loss: 1.2830 - accuracy: 0.5486 - val_loss: 1.5637 - val_accuracy: 0.4827\n",
      "Epoch 6/10\n",
      "1250/1250 [==============================] - 5s 4ms/step - loss: 1.2248 - accuracy: 0.5704 - val_loss: 1.5436 - val_accuracy: 0.4919\n",
      "Epoch 7/10\n",
      "1250/1250 [==============================] - 5s 4ms/step - loss: 1.1690 - accuracy: 0.5891 - val_loss: 1.5393 - val_accuracy: 0.5023\n",
      "Epoch 8/10\n",
      "1250/1250 [==============================] - 5s 4ms/step - loss: 1.1181 - accuracy: 0.6049 - val_loss: 1.6258 - val_accuracy: 0.4928\n",
      "Epoch 9/10\n",
      "1250/1250 [==============================] - 5s 4ms/step - loss: 1.0659 - accuracy: 0.6264 - val_loss: 1.6574 - val_accuracy: 0.4915\n",
      "Epoch 10/10\n",
      "1250/1250 [==============================] - 5s 4ms/step - loss: 1.0211 - accuracy: 0.6442 - val_loss: 1.7378 - val_accuracy: 0.4938\n"
     ]
    }
   ],
   "source": [
    "selu_history=selu.fit(X_train_new,y_train,validation_split=0.2,epochs=10)"
   ]
  },
  {
   "cell_type": "code",
   "execution_count": 75,
   "metadata": {
    "ExecuteTime": {
     "end_time": "2021-03-05T19:33:01.443656Z",
     "start_time": "2021-03-05T19:33:01.438713Z"
    }
   },
   "outputs": [],
   "source": [
    "results[\"selu\"] = pd.DataFrame(selu_history.history).iloc[-1,:].values.tolist()"
   ]
  },
  {
   "cell_type": "code",
   "execution_count": 76,
   "metadata": {
    "ExecuteTime": {
     "end_time": "2021-03-05T19:33:01.824168Z",
     "start_time": "2021-03-05T19:33:01.816715Z"
    }
   },
   "outputs": [],
   "source": [
    "d = pd.DataFrame(results)\n",
    "d[\"metric\"] = [\"train_loss\",\"train_acc\",\"valid_loss\",\"valid_acc\"]\n",
    "d.reset_index(inplace=True)\n",
    "d.set_index(\"metric\",inplace=True)\n",
    "d.T.drop(\"index\",inplace=True)"
   ]
  },
  {
   "cell_type": "code",
   "execution_count": 78,
   "metadata": {
    "ExecuteTime": {
     "end_time": "2021-03-05T19:33:36.996359Z",
     "start_time": "2021-03-05T19:33:36.992299Z"
    }
   },
   "outputs": [],
   "source": [
    "d.drop(\"index\",axis=1,inplace=True)"
   ]
  },
  {
   "cell_type": "code",
   "execution_count": 79,
   "metadata": {
    "ExecuteTime": {
     "end_time": "2021-03-05T19:33:39.105079Z",
     "start_time": "2021-03-05T19:33:39.095879Z"
    },
    "scrolled": true
   },
   "outputs": [
    {
     "data": {
      "text/html": [
       "<div>\n",
       "<style scoped>\n",
       "    .dataframe tbody tr th:only-of-type {\n",
       "        vertical-align: middle;\n",
       "    }\n",
       "\n",
       "    .dataframe tbody tr th {\n",
       "        vertical-align: top;\n",
       "    }\n",
       "\n",
       "    .dataframe thead th {\n",
       "        text-align: right;\n",
       "    }\n",
       "</style>\n",
       "<table border=\"1\" class=\"dataframe\">\n",
       "  <thead>\n",
       "    <tr style=\"text-align: right;\">\n",
       "      <th></th>\n",
       "      <th>relu</th>\n",
       "      <th>leaky</th>\n",
       "      <th>prelu</th>\n",
       "      <th>elu</th>\n",
       "      <th>selu</th>\n",
       "    </tr>\n",
       "    <tr>\n",
       "      <th>metric</th>\n",
       "      <th></th>\n",
       "      <th></th>\n",
       "      <th></th>\n",
       "      <th></th>\n",
       "      <th></th>\n",
       "    </tr>\n",
       "  </thead>\n",
       "  <tbody>\n",
       "    <tr>\n",
       "      <th>train_loss</th>\n",
       "      <td>1.520985</td>\n",
       "      <td>1.468773</td>\n",
       "      <td>1.479191</td>\n",
       "      <td>1.425374</td>\n",
       "      <td>1.021104</td>\n",
       "    </tr>\n",
       "    <tr>\n",
       "      <th>train_acc</th>\n",
       "      <td>0.461600</td>\n",
       "      <td>0.478475</td>\n",
       "      <td>0.477300</td>\n",
       "      <td>0.496500</td>\n",
       "      <td>0.644200</td>\n",
       "    </tr>\n",
       "    <tr>\n",
       "      <th>valid_loss</th>\n",
       "      <td>1.603485</td>\n",
       "      <td>1.472295</td>\n",
       "      <td>1.576962</td>\n",
       "      <td>1.497446</td>\n",
       "      <td>1.737838</td>\n",
       "    </tr>\n",
       "    <tr>\n",
       "      <th>valid_acc</th>\n",
       "      <td>0.450100</td>\n",
       "      <td>0.488600</td>\n",
       "      <td>0.454300</td>\n",
       "      <td>0.482900</td>\n",
       "      <td>0.493800</td>\n",
       "    </tr>\n",
       "  </tbody>\n",
       "</table>\n",
       "</div>"
      ],
      "text/plain": [
       "                relu     leaky     prelu       elu      selu\n",
       "metric                                                      \n",
       "train_loss  1.520985  1.468773  1.479191  1.425374  1.021104\n",
       "train_acc   0.461600  0.478475  0.477300  0.496500  0.644200\n",
       "valid_loss  1.603485  1.472295  1.576962  1.497446  1.737838\n",
       "valid_acc   0.450100  0.488600  0.454300  0.482900  0.493800"
      ]
     },
     "execution_count": 79,
     "metadata": {},
     "output_type": "execute_result"
    }
   ],
   "source": [
    "d"
   ]
  },
  {
   "cell_type": "markdown",
   "metadata": {},
   "source": [
    "With only 3 layers and no tunning, the above summary shows that the train_acc increase from relu, leaky, prelu, elu to selu. Selu is the activation functions that give us the best accuracy on the training set for far. It is the one has the accuracy higher than the baseline: 64%. However, it is a bit overfitting. Selu will be selected to add more layers and do hyperparameter tunning."
   ]
  },
  {
   "cell_type": "markdown",
   "metadata": {},
   "source": [
    "# Hyperparameter tunning"
   ]
  },
  {
   "cell_type": "markdown",
   "metadata": {},
   "source": [
    "Because the model with only 2 hidden layers give us only scores equal to the baseline score. Thus, we do hyperparamter tunning together with callback to select the best hyperparameter and enable early stopping."
   ]
  },
  {
   "cell_type": "markdown",
   "metadata": {},
   "source": [
    "## Early stopping"
   ]
  },
  {
   "cell_type": "code",
   "execution_count": 128,
   "metadata": {
    "ExecuteTime": {
     "end_time": "2021-03-05T21:26:19.425541Z",
     "start_time": "2021-03-05T21:26:19.420821Z"
    }
   },
   "outputs": [],
   "source": [
    "def model(n_hidden=None, n_neurons=None, lr=1e-3):\n",
    "    model = keras.models.Sequential()\n",
    "    model.add(keras.layers.Flatten(input_shape=[32,32,3]))\n",
    "    for layer in range(1,n_hidden):\n",
    "        model.add(keras.layers.Dense(n_neurons,activation=\"selu\",kernel_initializer=\"lecun_normal\"))\n",
    "    model.add(keras.layers.Dense(10,activation=\"softmax\",kernel_initializer= keras.initializers.glorot_normal))\n",
    "    model.compile(optimizer=keras.optimizers.SGD(lr=lr),\n",
    "                  loss=keras.losses.sparse_categorical_crossentropy,\n",
    "                  metrics=\"accuracy\")\n",
    "    return model"
   ]
  },
  {
   "cell_type": "code",
   "execution_count": 129,
   "metadata": {
    "ExecuteTime": {
     "end_time": "2021-03-05T21:26:19.833149Z",
     "start_time": "2021-03-05T21:26:19.829323Z"
    }
   },
   "outputs": [],
   "source": [
    "wrapper = keras.wrappers.scikit_learn.KerasClassifier(model)"
   ]
  },
  {
   "cell_type": "code",
   "execution_count": 130,
   "metadata": {
    "ExecuteTime": {
     "end_time": "2021-03-05T21:26:20.214012Z",
     "start_time": "2021-03-05T21:26:20.211090Z"
    }
   },
   "outputs": [],
   "source": [
    "#define early_stopping to stop the model\n",
    "early_stopping_cb=keras.callbacks.EarlyStopping(patience=5,restore_best_weights=True)"
   ]
  },
  {
   "cell_type": "code",
   "execution_count": 131,
   "metadata": {
    "ExecuteTime": {
     "end_time": "2021-03-05T21:39:45.613538Z",
     "start_time": "2021-03-05T21:26:20.611881Z"
    }
   },
   "outputs": [
    {
     "name": "stdout",
     "output_type": "stream",
     "text": [
      "Epoch 1/50\n",
      "625/625 [==============================] - 1s 2ms/step - loss: 2.0089 - accuracy: 0.2983 - val_loss: 1.8442 - val_accuracy: 0.3602\n",
      "Epoch 2/50\n",
      "625/625 [==============================] - 1s 2ms/step - loss: 1.7575 - accuracy: 0.3799 - val_loss: 1.7814 - val_accuracy: 0.3804\n",
      "Epoch 3/50\n",
      "625/625 [==============================] - 1s 2ms/step - loss: 1.6663 - accuracy: 0.4138 - val_loss: 1.7279 - val_accuracy: 0.3994\n",
      "Epoch 4/50\n",
      "625/625 [==============================] - 1s 2ms/step - loss: 1.6072 - accuracy: 0.4396 - val_loss: 1.6881 - val_accuracy: 0.4098\n",
      "Epoch 5/50\n",
      "625/625 [==============================] - 1s 2ms/step - loss: 1.5621 - accuracy: 0.4554 - val_loss: 1.6650 - val_accuracy: 0.4162\n",
      "Epoch 6/50\n",
      "625/625 [==============================] - 1s 2ms/step - loss: 1.5235 - accuracy: 0.4721 - val_loss: 1.6463 - val_accuracy: 0.4200\n",
      "Epoch 7/50\n",
      "625/625 [==============================] - 1s 2ms/step - loss: 1.4914 - accuracy: 0.4837 - val_loss: 1.6270 - val_accuracy: 0.4274\n",
      "Epoch 8/50\n",
      "625/625 [==============================] - 1s 2ms/step - loss: 1.4609 - accuracy: 0.4932 - val_loss: 1.6157 - val_accuracy: 0.4312\n",
      "Epoch 9/50\n",
      "625/625 [==============================] - 1s 2ms/step - loss: 1.4355 - accuracy: 0.5032 - val_loss: 1.6043 - val_accuracy: 0.4388\n",
      "Epoch 10/50\n",
      "625/625 [==============================] - 1s 2ms/step - loss: 1.4105 - accuracy: 0.5117 - val_loss: 1.5976 - val_accuracy: 0.4420\n",
      "Epoch 11/50\n",
      "625/625 [==============================] - 1s 2ms/step - loss: 1.3876 - accuracy: 0.5190 - val_loss: 1.5863 - val_accuracy: 0.4398\n",
      "Epoch 12/50\n",
      "625/625 [==============================] - 1s 2ms/step - loss: 1.3660 - accuracy: 0.5296 - val_loss: 1.5809 - val_accuracy: 0.4406\n",
      "Epoch 13/50\n",
      "625/625 [==============================] - 1s 2ms/step - loss: 1.3451 - accuracy: 0.5373 - val_loss: 1.5741 - val_accuracy: 0.4444\n",
      "Epoch 14/50\n",
      "625/625 [==============================] - 1s 2ms/step - loss: 1.3247 - accuracy: 0.5441 - val_loss: 1.5742 - val_accuracy: 0.4416\n",
      "Epoch 15/50\n",
      "625/625 [==============================] - 1s 2ms/step - loss: 1.3064 - accuracy: 0.5516 - val_loss: 1.5666 - val_accuracy: 0.4454\n",
      "Epoch 16/50\n",
      "625/625 [==============================] - 1s 2ms/step - loss: 1.2877 - accuracy: 0.5606 - val_loss: 1.5632 - val_accuracy: 0.4464\n",
      "Epoch 17/50\n",
      "625/625 [==============================] - 1s 2ms/step - loss: 1.2696 - accuracy: 0.5666 - val_loss: 1.5639 - val_accuracy: 0.4472\n",
      "Epoch 18/50\n",
      "625/625 [==============================] - 1s 2ms/step - loss: 1.2514 - accuracy: 0.5712 - val_loss: 1.5631 - val_accuracy: 0.4576\n",
      "Epoch 19/50\n",
      "625/625 [==============================] - 1s 2ms/step - loss: 1.2360 - accuracy: 0.5795 - val_loss: 1.5601 - val_accuracy: 0.4486\n",
      "Epoch 20/50\n",
      "625/625 [==============================] - 1s 2ms/step - loss: 1.2182 - accuracy: 0.5849 - val_loss: 1.5472 - val_accuracy: 0.4526\n",
      "Epoch 21/50\n",
      "625/625 [==============================] - 1s 2ms/step - loss: 1.2036 - accuracy: 0.5907 - val_loss: 1.5445 - val_accuracy: 0.4562\n",
      "Epoch 22/50\n",
      "625/625 [==============================] - 1s 2ms/step - loss: 1.1863 - accuracy: 0.5968 - val_loss: 1.5576 - val_accuracy: 0.4568\n",
      "Epoch 23/50\n",
      "625/625 [==============================] - 1s 2ms/step - loss: 1.1708 - accuracy: 0.6042 - val_loss: 1.5426 - val_accuracy: 0.4582\n",
      "Epoch 24/50\n",
      "625/625 [==============================] - 1s 2ms/step - loss: 1.1556 - accuracy: 0.6095 - val_loss: 1.5490 - val_accuracy: 0.4566\n",
      "Epoch 25/50\n",
      "625/625 [==============================] - 1s 2ms/step - loss: 1.1405 - accuracy: 0.6150 - val_loss: 1.5545 - val_accuracy: 0.4544\n",
      "Epoch 26/50\n",
      "625/625 [==============================] - 1s 2ms/step - loss: 1.1252 - accuracy: 0.6201 - val_loss: 1.5450 - val_accuracy: 0.4550\n",
      "Epoch 27/50\n",
      "625/625 [==============================] - 1s 2ms/step - loss: 1.1104 - accuracy: 0.6236 - val_loss: 1.5510 - val_accuracy: 0.4498\n",
      "Epoch 28/50\n",
      "625/625 [==============================] - 1s 2ms/step - loss: 1.0969 - accuracy: 0.6308 - val_loss: 1.5562 - val_accuracy: 0.4556\n",
      "782/782 [==============================] - 1s 1ms/step - loss: 1.5413 - accuracy: 0.4651\n",
      "Epoch 1/50\n",
      "625/625 [==============================] - 1s 2ms/step - loss: 1.9932 - accuracy: 0.3031 - val_loss: 1.8171 - val_accuracy: 0.3596\n",
      "Epoch 2/50\n",
      "625/625 [==============================] - 1s 2ms/step - loss: 1.7546 - accuracy: 0.3817 - val_loss: 1.7189 - val_accuracy: 0.4034\n",
      "Epoch 3/50\n",
      "625/625 [==============================] - 1s 2ms/step - loss: 1.6614 - accuracy: 0.4191 - val_loss: 1.6738 - val_accuracy: 0.4120\n",
      "Epoch 4/50\n",
      "625/625 [==============================] - 1s 2ms/step - loss: 1.6006 - accuracy: 0.4414 - val_loss: 1.6340 - val_accuracy: 0.4308\n",
      "Epoch 5/50\n",
      "625/625 [==============================] - 1s 2ms/step - loss: 1.5538 - accuracy: 0.4566 - val_loss: 1.6145 - val_accuracy: 0.4358\n",
      "Epoch 6/50\n",
      "625/625 [==============================] - 1s 2ms/step - loss: 1.5136 - accuracy: 0.4719 - val_loss: 1.5913 - val_accuracy: 0.4472\n",
      "Epoch 7/50\n",
      "625/625 [==============================] - 1s 2ms/step - loss: 1.4819 - accuracy: 0.4899 - val_loss: 1.5828 - val_accuracy: 0.4498\n",
      "Epoch 8/50\n",
      "625/625 [==============================] - 1s 2ms/step - loss: 1.4538 - accuracy: 0.4982 - val_loss: 1.5674 - val_accuracy: 0.4546\n",
      "Epoch 9/50\n",
      "625/625 [==============================] - 1s 2ms/step - loss: 1.4259 - accuracy: 0.5059 - val_loss: 1.5568 - val_accuracy: 0.4564\n",
      "Epoch 10/50\n",
      "625/625 [==============================] - 1s 2ms/step - loss: 1.4025 - accuracy: 0.5167 - val_loss: 1.5515 - val_accuracy: 0.4568\n",
      "Epoch 11/50\n",
      "625/625 [==============================] - 1s 2ms/step - loss: 1.3792 - accuracy: 0.5253 - val_loss: 1.5487 - val_accuracy: 0.4618\n",
      "Epoch 12/50\n",
      "625/625 [==============================] - 1s 2ms/step - loss: 1.3592 - accuracy: 0.5322 - val_loss: 1.5376 - val_accuracy: 0.4634\n",
      "Epoch 13/50\n",
      "625/625 [==============================] - 1s 2ms/step - loss: 1.3386 - accuracy: 0.5379 - val_loss: 1.5336 - val_accuracy: 0.4626\n",
      "Epoch 14/50\n",
      "625/625 [==============================] - 1s 2ms/step - loss: 1.3189 - accuracy: 0.5462 - val_loss: 1.5284 - val_accuracy: 0.4624\n",
      "Epoch 15/50\n",
      "625/625 [==============================] - 1s 2ms/step - loss: 1.3011 - accuracy: 0.5501 - val_loss: 1.5264 - val_accuracy: 0.4650\n",
      "Epoch 16/50\n",
      "625/625 [==============================] - 1s 2ms/step - loss: 1.2828 - accuracy: 0.5599 - val_loss: 1.5219 - val_accuracy: 0.4684\n",
      "Epoch 17/50\n",
      "625/625 [==============================] - 1s 2ms/step - loss: 1.2658 - accuracy: 0.5658 - val_loss: 1.5269 - val_accuracy: 0.4634\n",
      "Epoch 18/50\n",
      "625/625 [==============================] - 1s 2ms/step - loss: 1.2481 - accuracy: 0.5727 - val_loss: 1.5137 - val_accuracy: 0.4714\n",
      "Epoch 19/50\n",
      "625/625 [==============================] - 1s 2ms/step - loss: 1.2327 - accuracy: 0.5778 - val_loss: 1.5154 - val_accuracy: 0.4704\n",
      "Epoch 20/50\n",
      "625/625 [==============================] - 1s 2ms/step - loss: 1.2171 - accuracy: 0.5852 - val_loss: 1.5183 - val_accuracy: 0.4676\n",
      "Epoch 21/50\n",
      "625/625 [==============================] - 1s 2ms/step - loss: 1.2017 - accuracy: 0.5900 - val_loss: 1.5148 - val_accuracy: 0.4704\n",
      "Epoch 22/50\n",
      "625/625 [==============================] - 1s 2ms/step - loss: 1.1855 - accuracy: 0.5968 - val_loss: 1.5210 - val_accuracy: 0.4698\n",
      "Epoch 23/50\n",
      "625/625 [==============================] - 1s 2ms/step - loss: 1.1705 - accuracy: 0.5980 - val_loss: 1.5140 - val_accuracy: 0.4656\n",
      "782/782 [==============================] - 1s 1ms/step - loss: 1.5656 - accuracy: 0.4549\n",
      "Epoch 1/50\n",
      "625/625 [==============================] - 2s 3ms/step - loss: 1.9809 - accuracy: 0.3110 - val_loss: 1.8232 - val_accuracy: 0.3658\n",
      "Epoch 2/50\n",
      "625/625 [==============================] - 2s 3ms/step - loss: 1.7296 - accuracy: 0.3948 - val_loss: 1.7513 - val_accuracy: 0.3856\n",
      "Epoch 3/50\n",
      "625/625 [==============================] - 2s 2ms/step - loss: 1.6290 - accuracy: 0.4327 - val_loss: 1.7028 - val_accuracy: 0.4036\n",
      "Epoch 4/50\n",
      "625/625 [==============================] - 2s 3ms/step - loss: 1.5638 - accuracy: 0.4579 - val_loss: 1.6634 - val_accuracy: 0.4222\n",
      "Epoch 5/50\n",
      "625/625 [==============================] - 2s 3ms/step - loss: 1.5146 - accuracy: 0.4746 - val_loss: 1.6394 - val_accuracy: 0.4282\n",
      "Epoch 6/50\n"
     ]
    },
    {
     "name": "stdout",
     "output_type": "stream",
     "text": [
      "625/625 [==============================] - 2s 2ms/step - loss: 1.4716 - accuracy: 0.4954 - val_loss: 1.6255 - val_accuracy: 0.4300\n",
      "Epoch 7/50\n",
      "625/625 [==============================] - 2s 3ms/step - loss: 1.4358 - accuracy: 0.5088 - val_loss: 1.6031 - val_accuracy: 0.4402\n",
      "Epoch 8/50\n",
      "625/625 [==============================] - 2s 2ms/step - loss: 1.4026 - accuracy: 0.5206 - val_loss: 1.5908 - val_accuracy: 0.4436\n",
      "Epoch 9/50\n",
      "625/625 [==============================] - 2s 2ms/step - loss: 1.3743 - accuracy: 0.5297 - val_loss: 1.5807 - val_accuracy: 0.4450\n",
      "Epoch 10/50\n",
      "625/625 [==============================] - 2s 3ms/step - loss: 1.3459 - accuracy: 0.5416 - val_loss: 1.5779 - val_accuracy: 0.4526\n",
      "Epoch 11/50\n",
      "625/625 [==============================] - 2s 3ms/step - loss: 1.3206 - accuracy: 0.5535 - val_loss: 1.5634 - val_accuracy: 0.4520\n",
      "Epoch 12/50\n",
      "625/625 [==============================] - 2s 3ms/step - loss: 1.2955 - accuracy: 0.5580 - val_loss: 1.5611 - val_accuracy: 0.4556\n",
      "Epoch 13/50\n",
      "625/625 [==============================] - 2s 3ms/step - loss: 1.2718 - accuracy: 0.5706 - val_loss: 1.5511 - val_accuracy: 0.4624\n",
      "Epoch 14/50\n",
      "625/625 [==============================] - 2s 2ms/step - loss: 1.2484 - accuracy: 0.5787 - val_loss: 1.5510 - val_accuracy: 0.4598\n",
      "Epoch 15/50\n",
      "625/625 [==============================] - 2s 3ms/step - loss: 1.2265 - accuracy: 0.5895 - val_loss: 1.5480 - val_accuracy: 0.4626\n",
      "Epoch 16/50\n",
      "625/625 [==============================] - 2s 2ms/step - loss: 1.2043 - accuracy: 0.5929 - val_loss: 1.5461 - val_accuracy: 0.4656\n",
      "Epoch 17/50\n",
      "625/625 [==============================] - 2s 2ms/step - loss: 1.1835 - accuracy: 0.6026 - val_loss: 1.5490 - val_accuracy: 0.4626\n",
      "Epoch 18/50\n",
      "625/625 [==============================] - 2s 3ms/step - loss: 1.1624 - accuracy: 0.6091 - val_loss: 1.5451 - val_accuracy: 0.4620\n",
      "Epoch 19/50\n",
      "625/625 [==============================] - 2s 3ms/step - loss: 1.1442 - accuracy: 0.6171 - val_loss: 1.5505 - val_accuracy: 0.4650\n",
      "Epoch 20/50\n",
      "625/625 [==============================] - 2s 3ms/step - loss: 1.1232 - accuracy: 0.6242 - val_loss: 1.5336 - val_accuracy: 0.4680\n",
      "Epoch 21/50\n",
      "625/625 [==============================] - 2s 3ms/step - loss: 1.1055 - accuracy: 0.6305 - val_loss: 1.5321 - val_accuracy: 0.4704\n",
      "Epoch 22/50\n",
      "625/625 [==============================] - 2s 2ms/step - loss: 1.0849 - accuracy: 0.6398 - val_loss: 1.5383 - val_accuracy: 0.4672\n",
      "Epoch 23/50\n",
      "625/625 [==============================] - 2s 3ms/step - loss: 1.0662 - accuracy: 0.6460 - val_loss: 1.5249 - val_accuracy: 0.4776\n",
      "Epoch 24/50\n",
      "625/625 [==============================] - 2s 3ms/step - loss: 1.0476 - accuracy: 0.6547 - val_loss: 1.5346 - val_accuracy: 0.4690\n",
      "Epoch 25/50\n",
      "625/625 [==============================] - 2s 3ms/step - loss: 1.0290 - accuracy: 0.6612 - val_loss: 1.5403 - val_accuracy: 0.4704\n",
      "Epoch 26/50\n",
      "625/625 [==============================] - 2s 3ms/step - loss: 1.0100 - accuracy: 0.6695 - val_loss: 1.5393 - val_accuracy: 0.4644\n",
      "Epoch 27/50\n",
      "625/625 [==============================] - 2s 3ms/step - loss: 0.9920 - accuracy: 0.6740 - val_loss: 1.5457 - val_accuracy: 0.4684\n",
      "Epoch 28/50\n",
      "625/625 [==============================] - 2s 3ms/step - loss: 0.9757 - accuracy: 0.6800 - val_loss: 1.5544 - val_accuracy: 0.4758\n",
      "782/782 [==============================] - 1s 2ms/step - loss: 1.5293 - accuracy: 0.4703\n",
      "Epoch 1/50\n",
      "625/625 [==============================] - 2s 3ms/step - loss: 1.9843 - accuracy: 0.3119 - val_loss: 1.7765 - val_accuracy: 0.3776\n",
      "Epoch 2/50\n",
      "625/625 [==============================] - 2s 3ms/step - loss: 1.7186 - accuracy: 0.3972 - val_loss: 1.6821 - val_accuracy: 0.4110\n",
      "Epoch 3/50\n",
      "625/625 [==============================] - 2s 3ms/step - loss: 1.6163 - accuracy: 0.4395 - val_loss: 1.6462 - val_accuracy: 0.4250\n",
      "Epoch 4/50\n",
      "625/625 [==============================] - 2s 3ms/step - loss: 1.5487 - accuracy: 0.4608 - val_loss: 1.6068 - val_accuracy: 0.4346\n",
      "Epoch 5/50\n",
      "625/625 [==============================] - 3s 5ms/step - loss: 1.4960 - accuracy: 0.4786 - val_loss: 1.5890 - val_accuracy: 0.4460\n",
      "Epoch 6/50\n",
      "625/625 [==============================] - 3s 5ms/step - loss: 1.4513 - accuracy: 0.4983 - val_loss: 1.5654 - val_accuracy: 0.4542\n",
      "Epoch 7/50\n",
      "625/625 [==============================] - 2s 3ms/step - loss: 1.4150 - accuracy: 0.5112 - val_loss: 1.5581 - val_accuracy: 0.4596\n",
      "Epoch 8/50\n",
      "625/625 [==============================] - 2s 3ms/step - loss: 1.3822 - accuracy: 0.5245 - val_loss: 1.5454 - val_accuracy: 0.4604\n",
      "Epoch 9/50\n",
      "625/625 [==============================] - 2s 3ms/step - loss: 1.3515 - accuracy: 0.5357 - val_loss: 1.5345 - val_accuracy: 0.4640\n",
      "Epoch 10/50\n",
      "625/625 [==============================] - 2s 3ms/step - loss: 1.3243 - accuracy: 0.5470 - val_loss: 1.5296 - val_accuracy: 0.4686\n",
      "Epoch 11/50\n",
      "625/625 [==============================] - 2s 3ms/step - loss: 1.2969 - accuracy: 0.5534 - val_loss: 1.5274 - val_accuracy: 0.4684\n",
      "Epoch 12/50\n",
      "625/625 [==============================] - 2s 3ms/step - loss: 1.2734 - accuracy: 0.5641 - val_loss: 1.5209 - val_accuracy: 0.4708\n",
      "Epoch 13/50\n",
      "625/625 [==============================] - 2s 3ms/step - loss: 1.2492 - accuracy: 0.5731 - val_loss: 1.5151 - val_accuracy: 0.4676\n",
      "Epoch 14/50\n",
      "625/625 [==============================] - 2s 3ms/step - loss: 1.2267 - accuracy: 0.5847 - val_loss: 1.5160 - val_accuracy: 0.4728\n",
      "Epoch 15/50\n",
      "625/625 [==============================] - 2s 3ms/step - loss: 1.2035 - accuracy: 0.5909 - val_loss: 1.5068 - val_accuracy: 0.4746\n",
      "Epoch 16/50\n",
      "625/625 [==============================] - 2s 3ms/step - loss: 1.1824 - accuracy: 0.5979 - val_loss: 1.5117 - val_accuracy: 0.4774\n",
      "Epoch 17/50\n",
      "625/625 [==============================] - 2s 3ms/step - loss: 1.1619 - accuracy: 0.6083 - val_loss: 1.5192 - val_accuracy: 0.4732\n",
      "Epoch 18/50\n",
      "625/625 [==============================] - 2s 3ms/step - loss: 1.1401 - accuracy: 0.6151 - val_loss: 1.5047 - val_accuracy: 0.4816\n",
      "Epoch 19/50\n",
      "625/625 [==============================] - 2s 3ms/step - loss: 1.1214 - accuracy: 0.6249 - val_loss: 1.5032 - val_accuracy: 0.4802\n",
      "Epoch 20/50\n",
      "625/625 [==============================] - 2s 3ms/step - loss: 1.1022 - accuracy: 0.6295 - val_loss: 1.5075 - val_accuracy: 0.4808\n",
      "Epoch 21/50\n",
      "625/625 [==============================] - 2s 3ms/step - loss: 1.0828 - accuracy: 0.6363 - val_loss: 1.5039 - val_accuracy: 0.4774\n",
      "Epoch 22/50\n",
      "625/625 [==============================] - 2s 3ms/step - loss: 1.0623 - accuracy: 0.6425 - val_loss: 1.5089 - val_accuracy: 0.4822\n",
      "Epoch 23/50\n",
      "625/625 [==============================] - 2s 3ms/step - loss: 1.0446 - accuracy: 0.6513 - val_loss: 1.5030 - val_accuracy: 0.4828\n",
      "Epoch 24/50\n",
      "625/625 [==============================] - 2s 3ms/step - loss: 1.0251 - accuracy: 0.6590 - val_loss: 1.5344 - val_accuracy: 0.4720\n",
      "Epoch 25/50\n",
      "625/625 [==============================] - 2s 3ms/step - loss: 1.0070 - accuracy: 0.6647 - val_loss: 1.5143 - val_accuracy: 0.4798\n",
      "Epoch 26/50\n",
      "625/625 [==============================] - 2s 3ms/step - loss: 0.9887 - accuracy: 0.6724 - val_loss: 1.5092 - val_accuracy: 0.4794\n",
      "Epoch 27/50\n",
      "625/625 [==============================] - 2s 3ms/step - loss: 0.9717 - accuracy: 0.6766 - val_loss: 1.5186 - val_accuracy: 0.4790\n",
      "Epoch 28/50\n",
      "625/625 [==============================] - 2s 3ms/step - loss: 0.9537 - accuracy: 0.6845 - val_loss: 1.5244 - val_accuracy: 0.4758\n",
      "782/782 [==============================] - 1s 2ms/step - loss: 1.5438 - accuracy: 0.4665\n",
      "Epoch 1/50\n",
      "625/625 [==============================] - 1s 2ms/step - loss: 1.9793 - accuracy: 0.3084 - val_loss: 1.8233 - val_accuracy: 0.3724\n",
      "Epoch 2/50\n",
      "625/625 [==============================] - 1s 2ms/step - loss: 1.7401 - accuracy: 0.3914 - val_loss: 1.7569 - val_accuracy: 0.3924\n",
      "Epoch 3/50\n",
      "625/625 [==============================] - 1s 2ms/step - loss: 1.6503 - accuracy: 0.4206 - val_loss: 1.7077 - val_accuracy: 0.4030\n",
      "Epoch 4/50\n",
      "625/625 [==============================] - 1s 2ms/step - loss: 1.5909 - accuracy: 0.4455 - val_loss: 1.6689 - val_accuracy: 0.4178\n",
      "Epoch 5/50\n",
      "625/625 [==============================] - 1s 2ms/step - loss: 1.5438 - accuracy: 0.4620 - val_loss: 1.6394 - val_accuracy: 0.4272\n",
      "Epoch 6/50\n"
     ]
    },
    {
     "name": "stdout",
     "output_type": "stream",
     "text": [
      "625/625 [==============================] - 1s 2ms/step - loss: 1.5030 - accuracy: 0.4787 - val_loss: 1.6251 - val_accuracy: 0.4314\n",
      "Epoch 7/50\n",
      "625/625 [==============================] - 1s 2ms/step - loss: 1.4697 - accuracy: 0.4940 - val_loss: 1.6061 - val_accuracy: 0.4376\n",
      "Epoch 8/50\n",
      "625/625 [==============================] - 1s 2ms/step - loss: 1.4377 - accuracy: 0.5048 - val_loss: 1.5908 - val_accuracy: 0.4426\n",
      "Epoch 9/50\n",
      "625/625 [==============================] - 1s 2ms/step - loss: 1.4106 - accuracy: 0.5149 - val_loss: 1.5823 - val_accuracy: 0.4422\n",
      "Epoch 10/50\n",
      "625/625 [==============================] - 1s 2ms/step - loss: 1.3839 - accuracy: 0.5257 - val_loss: 1.5755 - val_accuracy: 0.4478\n",
      "Epoch 11/50\n",
      "625/625 [==============================] - 1s 2ms/step - loss: 1.3587 - accuracy: 0.5333 - val_loss: 1.5637 - val_accuracy: 0.4500\n",
      "Epoch 12/50\n",
      "625/625 [==============================] - 1s 2ms/step - loss: 1.3354 - accuracy: 0.5406 - val_loss: 1.5608 - val_accuracy: 0.4516\n",
      "Epoch 13/50\n",
      "625/625 [==============================] - 1s 2ms/step - loss: 1.3124 - accuracy: 0.5492 - val_loss: 1.5540 - val_accuracy: 0.4532\n",
      "Epoch 14/50\n",
      "625/625 [==============================] - 1s 2ms/step - loss: 1.2907 - accuracy: 0.5565 - val_loss: 1.5517 - val_accuracy: 0.4568\n",
      "Epoch 15/50\n",
      "625/625 [==============================] - 1s 2ms/step - loss: 1.2712 - accuracy: 0.5656 - val_loss: 1.5465 - val_accuracy: 0.4572\n",
      "Epoch 16/50\n",
      "625/625 [==============================] - 1s 2ms/step - loss: 1.2510 - accuracy: 0.5732 - val_loss: 1.5504 - val_accuracy: 0.4596\n",
      "Epoch 17/50\n",
      "625/625 [==============================] - 1s 2ms/step - loss: 1.2311 - accuracy: 0.5782 - val_loss: 1.5479 - val_accuracy: 0.4574\n",
      "Epoch 18/50\n",
      "625/625 [==============================] - 1s 2ms/step - loss: 1.2115 - accuracy: 0.5879 - val_loss: 1.5457 - val_accuracy: 0.4592\n",
      "Epoch 19/50\n",
      "625/625 [==============================] - 1s 2ms/step - loss: 1.1942 - accuracy: 0.5929 - val_loss: 1.5448 - val_accuracy: 0.4578\n",
      "Epoch 20/50\n",
      "625/625 [==============================] - 1s 2ms/step - loss: 1.1754 - accuracy: 0.5983 - val_loss: 1.5356 - val_accuracy: 0.4610\n",
      "Epoch 21/50\n",
      "625/625 [==============================] - 1s 2ms/step - loss: 1.1592 - accuracy: 0.6057 - val_loss: 1.5347 - val_accuracy: 0.4630\n",
      "Epoch 22/50\n",
      "625/625 [==============================] - 1s 2ms/step - loss: 1.1391 - accuracy: 0.6155 - val_loss: 1.5393 - val_accuracy: 0.4640\n",
      "Epoch 23/50\n",
      "625/625 [==============================] - 1s 2ms/step - loss: 1.1224 - accuracy: 0.6213 - val_loss: 1.5300 - val_accuracy: 0.4638\n",
      "Epoch 24/50\n",
      "625/625 [==============================] - 1s 2ms/step - loss: 1.1046 - accuracy: 0.6278 - val_loss: 1.5476 - val_accuracy: 0.4592\n",
      "Epoch 25/50\n",
      "625/625 [==============================] - 1s 2ms/step - loss: 1.0883 - accuracy: 0.6324 - val_loss: 1.5500 - val_accuracy: 0.4650\n",
      "Epoch 26/50\n",
      "625/625 [==============================] - 1s 2ms/step - loss: 1.0708 - accuracy: 0.6409 - val_loss: 1.5349 - val_accuracy: 0.4662\n",
      "Epoch 27/50\n",
      "625/625 [==============================] - 1s 2ms/step - loss: 1.0533 - accuracy: 0.6449 - val_loss: 1.5446 - val_accuracy: 0.4680\n",
      "Epoch 28/50\n",
      "625/625 [==============================] - 1s 2ms/step - loss: 1.0384 - accuracy: 0.6509 - val_loss: 1.5498 - val_accuracy: 0.4670\n",
      "782/782 [==============================] - 1s 1ms/step - loss: 1.5453 - accuracy: 0.4667\n",
      "Epoch 1/50\n",
      "625/625 [==============================] - 1s 2ms/step - loss: 1.9788 - accuracy: 0.3061 - val_loss: 1.7979 - val_accuracy: 0.3646\n",
      "Epoch 2/50\n",
      "625/625 [==============================] - 1s 2ms/step - loss: 1.7324 - accuracy: 0.3909 - val_loss: 1.7026 - val_accuracy: 0.4012\n",
      "Epoch 3/50\n",
      "625/625 [==============================] - 1s 2ms/step - loss: 1.6395 - accuracy: 0.4252 - val_loss: 1.6639 - val_accuracy: 0.4078\n",
      "Epoch 4/50\n",
      "625/625 [==============================] - 1s 2ms/step - loss: 1.5775 - accuracy: 0.4479 - val_loss: 1.6294 - val_accuracy: 0.4216\n",
      "Epoch 5/50\n",
      "625/625 [==============================] - 1s 2ms/step - loss: 1.5299 - accuracy: 0.4629 - val_loss: 1.6088 - val_accuracy: 0.4252\n",
      "Epoch 6/50\n",
      "625/625 [==============================] - 1s 2ms/step - loss: 1.4878 - accuracy: 0.4787 - val_loss: 1.5914 - val_accuracy: 0.4330\n",
      "Epoch 7/50\n",
      "625/625 [==============================] - 1s 2ms/step - loss: 1.4541 - accuracy: 0.4942 - val_loss: 1.5822 - val_accuracy: 0.4444\n",
      "Epoch 8/50\n",
      "625/625 [==============================] - 1s 2ms/step - loss: 1.4233 - accuracy: 0.5060 - val_loss: 1.5715 - val_accuracy: 0.4422\n",
      "Epoch 9/50\n",
      "625/625 [==============================] - 1s 2ms/step - loss: 1.3944 - accuracy: 0.5139 - val_loss: 1.5582 - val_accuracy: 0.4516\n",
      "Epoch 10/50\n",
      "625/625 [==============================] - 1s 2ms/step - loss: 1.3687 - accuracy: 0.5289 - val_loss: 1.5529 - val_accuracy: 0.4526\n",
      "Epoch 11/50\n",
      "625/625 [==============================] - 1s 2ms/step - loss: 1.3425 - accuracy: 0.5371 - val_loss: 1.5517 - val_accuracy: 0.4538\n",
      "Epoch 12/50\n",
      "625/625 [==============================] - 1s 2ms/step - loss: 1.3197 - accuracy: 0.5458 - val_loss: 1.5432 - val_accuracy: 0.4562\n",
      "Epoch 13/50\n",
      "625/625 [==============================] - 1s 2ms/step - loss: 1.2967 - accuracy: 0.5553 - val_loss: 1.5344 - val_accuracy: 0.4634\n",
      "Epoch 14/50\n",
      "625/625 [==============================] - 1s 2ms/step - loss: 1.2752 - accuracy: 0.5614 - val_loss: 1.5399 - val_accuracy: 0.4592\n",
      "Epoch 15/50\n",
      "625/625 [==============================] - 1s 2ms/step - loss: 1.2548 - accuracy: 0.5669 - val_loss: 1.5344 - val_accuracy: 0.4648\n",
      "Epoch 16/50\n",
      "625/625 [==============================] - 1s 2ms/step - loss: 1.2345 - accuracy: 0.5768 - val_loss: 1.5336 - val_accuracy: 0.4688\n",
      "Epoch 17/50\n",
      "625/625 [==============================] - 1s 2ms/step - loss: 1.2149 - accuracy: 0.5835 - val_loss: 1.5336 - val_accuracy: 0.4668\n",
      "Epoch 18/50\n",
      "625/625 [==============================] - 1s 2ms/step - loss: 1.1941 - accuracy: 0.5919 - val_loss: 1.5319 - val_accuracy: 0.4660\n",
      "Epoch 19/50\n",
      "625/625 [==============================] - 1s 2ms/step - loss: 1.1771 - accuracy: 0.5975 - val_loss: 1.5260 - val_accuracy: 0.4708\n",
      "Epoch 20/50\n",
      "625/625 [==============================] - 1s 2ms/step - loss: 1.1594 - accuracy: 0.6018 - val_loss: 1.5331 - val_accuracy: 0.4638\n",
      "Epoch 21/50\n",
      "625/625 [==============================] - 1s 2ms/step - loss: 1.1417 - accuracy: 0.6129 - val_loss: 1.5307 - val_accuracy: 0.4714\n",
      "Epoch 22/50\n",
      "625/625 [==============================] - 1s 2ms/step - loss: 1.1217 - accuracy: 0.6191 - val_loss: 1.5380 - val_accuracy: 0.4674\n",
      "Epoch 23/50\n",
      "625/625 [==============================] - 1s 2ms/step - loss: 1.1058 - accuracy: 0.6261 - val_loss: 1.5385 - val_accuracy: 0.4712\n",
      "Epoch 24/50\n",
      "625/625 [==============================] - 1s 2ms/step - loss: 1.0882 - accuracy: 0.6312 - val_loss: 1.5591 - val_accuracy: 0.4628\n",
      "782/782 [==============================] - 1s 1ms/step - loss: 1.5645 - accuracy: 0.4576\n",
      "Epoch 1/50\n",
      "625/625 [==============================] - 2s 3ms/step - loss: 1.9652 - accuracy: 0.3132 - val_loss: 1.8043 - val_accuracy: 0.3694\n",
      "Epoch 2/50\n",
      "625/625 [==============================] - 2s 3ms/step - loss: 1.7014 - accuracy: 0.4010 - val_loss: 1.7297 - val_accuracy: 0.3926\n",
      "Epoch 3/50\n",
      "625/625 [==============================] - 2s 3ms/step - loss: 1.5977 - accuracy: 0.4386 - val_loss: 1.6795 - val_accuracy: 0.4074\n",
      "Epoch 4/50\n",
      "625/625 [==============================] - 2s 3ms/step - loss: 1.5309 - accuracy: 0.4643 - val_loss: 1.6416 - val_accuracy: 0.4240\n",
      "Epoch 5/50\n",
      "625/625 [==============================] - 2s 3ms/step - loss: 1.4801 - accuracy: 0.4852 - val_loss: 1.6214 - val_accuracy: 0.4280\n",
      "Epoch 6/50\n",
      "625/625 [==============================] - 2s 3ms/step - loss: 1.4343 - accuracy: 0.5039 - val_loss: 1.6047 - val_accuracy: 0.4408\n",
      "Epoch 7/50\n",
      "625/625 [==============================] - 2s 3ms/step - loss: 1.3962 - accuracy: 0.5195 - val_loss: 1.5877 - val_accuracy: 0.4408\n",
      "Epoch 8/50\n",
      "625/625 [==============================] - 2s 3ms/step - loss: 1.3600 - accuracy: 0.5357 - val_loss: 1.5729 - val_accuracy: 0.4476\n",
      "Epoch 9/50\n",
      "625/625 [==============================] - 2s 3ms/step - loss: 1.3285 - accuracy: 0.5443 - val_loss: 1.5637 - val_accuracy: 0.4516\n",
      "Epoch 10/50\n"
     ]
    },
    {
     "name": "stdout",
     "output_type": "stream",
     "text": [
      "625/625 [==============================] - 2s 3ms/step - loss: 1.2972 - accuracy: 0.5576 - val_loss: 1.5649 - val_accuracy: 0.4532\n",
      "Epoch 11/50\n",
      "625/625 [==============================] - 2s 3ms/step - loss: 1.2675 - accuracy: 0.5682 - val_loss: 1.5487 - val_accuracy: 0.4586\n",
      "Epoch 12/50\n",
      "625/625 [==============================] - 2s 3ms/step - loss: 1.2403 - accuracy: 0.5794 - val_loss: 1.5458 - val_accuracy: 0.4576\n",
      "Epoch 13/50\n",
      "625/625 [==============================] - 2s 3ms/step - loss: 1.2126 - accuracy: 0.5926 - val_loss: 1.5430 - val_accuracy: 0.4644\n",
      "Epoch 14/50\n",
      "625/625 [==============================] - 2s 3ms/step - loss: 1.1862 - accuracy: 0.6007 - val_loss: 1.5388 - val_accuracy: 0.4650\n",
      "Epoch 15/50\n",
      "625/625 [==============================] - 2s 3ms/step - loss: 1.1612 - accuracy: 0.6105 - val_loss: 1.5430 - val_accuracy: 0.4710\n",
      "Epoch 16/50\n",
      "625/625 [==============================] - 2s 3ms/step - loss: 1.1351 - accuracy: 0.6213 - val_loss: 1.5357 - val_accuracy: 0.4650\n",
      "Epoch 17/50\n",
      "625/625 [==============================] - 2s 3ms/step - loss: 1.1114 - accuracy: 0.6303 - val_loss: 1.5416 - val_accuracy: 0.4694\n",
      "Epoch 18/50\n",
      "625/625 [==============================] - 2s 3ms/step - loss: 1.0864 - accuracy: 0.6399 - val_loss: 1.5511 - val_accuracy: 0.4634\n",
      "Epoch 19/50\n",
      "625/625 [==============================] - 2s 3ms/step - loss: 1.0647 - accuracy: 0.6483 - val_loss: 1.5512 - val_accuracy: 0.4702\n",
      "Epoch 20/50\n",
      "625/625 [==============================] - 2s 3ms/step - loss: 1.0410 - accuracy: 0.6574 - val_loss: 1.5322 - val_accuracy: 0.4816\n",
      "Epoch 21/50\n",
      "625/625 [==============================] - 2s 3ms/step - loss: 1.0195 - accuracy: 0.6644 - val_loss: 1.5392 - val_accuracy: 0.4704\n",
      "Epoch 22/50\n",
      "625/625 [==============================] - 2s 3ms/step - loss: 0.9957 - accuracy: 0.6737 - val_loss: 1.5465 - val_accuracy: 0.4750\n",
      "Epoch 23/50\n",
      "625/625 [==============================] - 2s 3ms/step - loss: 0.9742 - accuracy: 0.6827 - val_loss: 1.5410 - val_accuracy: 0.4788\n",
      "Epoch 24/50\n",
      "625/625 [==============================] - 2s 3ms/step - loss: 0.9523 - accuracy: 0.6921 - val_loss: 1.5539 - val_accuracy: 0.4730\n",
      "Epoch 25/50\n",
      "625/625 [==============================] - 2s 3ms/step - loss: 0.9294 - accuracy: 0.7003 - val_loss: 1.5649 - val_accuracy: 0.4698\n",
      "782/782 [==============================] - 1s 2ms/step - loss: 1.5354 - accuracy: 0.4722\n",
      "Epoch 1/50\n",
      "625/625 [==============================] - 2s 3ms/step - loss: 1.9550 - accuracy: 0.3167 - val_loss: 1.7705 - val_accuracy: 0.3826\n",
      "Epoch 2/50\n",
      "625/625 [==============================] - 2s 3ms/step - loss: 1.6834 - accuracy: 0.4085 - val_loss: 1.6730 - val_accuracy: 0.4202\n",
      "Epoch 3/50\n",
      "625/625 [==============================] - 2s 3ms/step - loss: 1.5825 - accuracy: 0.4436 - val_loss: 1.6303 - val_accuracy: 0.4256\n",
      "Epoch 4/50\n",
      "625/625 [==============================] - 2s 3ms/step - loss: 1.5161 - accuracy: 0.4706 - val_loss: 1.5914 - val_accuracy: 0.4410\n",
      "Epoch 5/50\n",
      "625/625 [==============================] - 2s 3ms/step - loss: 1.4629 - accuracy: 0.4909 - val_loss: 1.5767 - val_accuracy: 0.4474\n",
      "Epoch 6/50\n",
      "625/625 [==============================] - 2s 3ms/step - loss: 1.4170 - accuracy: 0.5076 - val_loss: 1.5497 - val_accuracy: 0.4558\n",
      "Epoch 7/50\n",
      "625/625 [==============================] - 2s 3ms/step - loss: 1.3800 - accuracy: 0.5214 - val_loss: 1.5451 - val_accuracy: 0.4604\n",
      "Epoch 8/50\n",
      "625/625 [==============================] - 2s 3ms/step - loss: 1.3461 - accuracy: 0.5335 - val_loss: 1.5355 - val_accuracy: 0.4610\n",
      "Epoch 9/50\n",
      "625/625 [==============================] - 2s 3ms/step - loss: 1.3135 - accuracy: 0.5426 - val_loss: 1.5231 - val_accuracy: 0.4680\n",
      "Epoch 10/50\n",
      "625/625 [==============================] - 2s 3ms/step - loss: 1.2837 - accuracy: 0.5586 - val_loss: 1.5174 - val_accuracy: 0.4654\n",
      "Epoch 11/50\n",
      "625/625 [==============================] - 2s 3ms/step - loss: 1.2535 - accuracy: 0.5696 - val_loss: 1.5151 - val_accuracy: 0.4700\n",
      "Epoch 12/50\n",
      "625/625 [==============================] - 2s 3ms/step - loss: 1.2272 - accuracy: 0.5784 - val_loss: 1.5133 - val_accuracy: 0.4714\n",
      "Epoch 13/50\n",
      "625/625 [==============================] - 2s 3ms/step - loss: 1.2001 - accuracy: 0.5896 - val_loss: 1.5087 - val_accuracy: 0.4768\n",
      "Epoch 14/50\n",
      "625/625 [==============================] - 2s 3ms/step - loss: 1.1741 - accuracy: 0.5984 - val_loss: 1.5052 - val_accuracy: 0.4740\n",
      "Epoch 15/50\n",
      "625/625 [==============================] - 2s 3ms/step - loss: 1.1483 - accuracy: 0.6109 - val_loss: 1.5053 - val_accuracy: 0.4750\n",
      "Epoch 16/50\n",
      "625/625 [==============================] - 2s 4ms/step - loss: 1.1248 - accuracy: 0.6196 - val_loss: 1.5020 - val_accuracy: 0.4742\n",
      "Epoch 17/50\n",
      "625/625 [==============================] - 2s 4ms/step - loss: 1.1003 - accuracy: 0.6288 - val_loss: 1.5116 - val_accuracy: 0.4750\n",
      "Epoch 18/50\n",
      "625/625 [==============================] - 2s 3ms/step - loss: 1.0768 - accuracy: 0.6368 - val_loss: 1.5041 - val_accuracy: 0.4824\n",
      "Epoch 19/50\n",
      "625/625 [==============================] - 2s 3ms/step - loss: 1.0551 - accuracy: 0.6443 - val_loss: 1.5019 - val_accuracy: 0.4814\n",
      "Epoch 20/50\n",
      "625/625 [==============================] - 2s 3ms/step - loss: 1.0323 - accuracy: 0.6537 - val_loss: 1.5130 - val_accuracy: 0.4820\n",
      "Epoch 21/50\n",
      "625/625 [==============================] - 2s 3ms/step - loss: 1.0102 - accuracy: 0.6623 - val_loss: 1.5100 - val_accuracy: 0.4802\n",
      "Epoch 22/50\n",
      "625/625 [==============================] - 2s 3ms/step - loss: 0.9878 - accuracy: 0.6712 - val_loss: 1.5218 - val_accuracy: 0.4872\n",
      "Epoch 23/50\n",
      "625/625 [==============================] - 2s 3ms/step - loss: 0.9658 - accuracy: 0.6804 - val_loss: 1.5207 - val_accuracy: 0.4818\n",
      "Epoch 24/50\n",
      "625/625 [==============================] - 2s 3ms/step - loss: 0.9443 - accuracy: 0.6874 - val_loss: 1.5514 - val_accuracy: 0.4744\n",
      "782/782 [==============================] - 2s 2ms/step - loss: 1.5446 - accuracy: 0.4686\n",
      "Epoch 1/50\n",
      "625/625 [==============================] - 1s 2ms/step - loss: 2.0223 - accuracy: 0.2958 - val_loss: 1.8286 - val_accuracy: 0.3670\n",
      "Epoch 2/50\n",
      "625/625 [==============================] - 1s 2ms/step - loss: 1.7488 - accuracy: 0.3893 - val_loss: 1.7529 - val_accuracy: 0.3848\n",
      "Epoch 3/50\n",
      "625/625 [==============================] - 1s 2ms/step - loss: 1.6520 - accuracy: 0.4235 - val_loss: 1.7040 - val_accuracy: 0.4038\n",
      "Epoch 4/50\n",
      "625/625 [==============================] - 1s 2ms/step - loss: 1.5896 - accuracy: 0.4454 - val_loss: 1.6699 - val_accuracy: 0.4128\n",
      "Epoch 5/50\n",
      "625/625 [==============================] - 1s 2ms/step - loss: 1.5410 - accuracy: 0.4611 - val_loss: 1.6431 - val_accuracy: 0.4248\n",
      "Epoch 6/50\n",
      "625/625 [==============================] - 1s 2ms/step - loss: 1.4981 - accuracy: 0.4771 - val_loss: 1.6258 - val_accuracy: 0.4278\n",
      "Epoch 7/50\n",
      "625/625 [==============================] - 2s 2ms/step - loss: 1.4612 - accuracy: 0.4935 - val_loss: 1.6063 - val_accuracy: 0.4376\n",
      "Epoch 8/50\n",
      "625/625 [==============================] - 1s 2ms/step - loss: 1.4267 - accuracy: 0.5035 - val_loss: 1.5940 - val_accuracy: 0.4334\n",
      "Epoch 9/50\n",
      "625/625 [==============================] - 1s 2ms/step - loss: 1.3983 - accuracy: 0.5178 - val_loss: 1.5836 - val_accuracy: 0.4448\n",
      "Epoch 10/50\n",
      "625/625 [==============================] - 1s 2ms/step - loss: 1.3683 - accuracy: 0.5264 - val_loss: 1.5779 - val_accuracy: 0.4448\n",
      "Epoch 11/50\n",
      "625/625 [==============================] - 1s 2ms/step - loss: 1.3416 - accuracy: 0.5360 - val_loss: 1.5689 - val_accuracy: 0.4494\n",
      "Epoch 12/50\n",
      "625/625 [==============================] - 1s 2ms/step - loss: 1.3163 - accuracy: 0.5466 - val_loss: 1.5622 - val_accuracy: 0.4518\n",
      "Epoch 13/50\n",
      "625/625 [==============================] - 1s 2ms/step - loss: 1.2912 - accuracy: 0.5572 - val_loss: 1.5533 - val_accuracy: 0.4550\n",
      "Epoch 14/50\n",
      "625/625 [==============================] - 1s 2ms/step - loss: 1.2666 - accuracy: 0.5641 - val_loss: 1.5556 - val_accuracy: 0.4590\n",
      "Epoch 15/50\n",
      "625/625 [==============================] - 1s 2ms/step - loss: 1.2439 - accuracy: 0.5706 - val_loss: 1.5534 - val_accuracy: 0.4584\n",
      "Epoch 16/50\n",
      "625/625 [==============================] - 1s 2ms/step - loss: 1.2209 - accuracy: 0.5800 - val_loss: 1.5500 - val_accuracy: 0.4568\n",
      "Epoch 17/50\n"
     ]
    },
    {
     "name": "stdout",
     "output_type": "stream",
     "text": [
      "625/625 [==============================] - 2s 3ms/step - loss: 1.1987 - accuracy: 0.5903 - val_loss: 1.5549 - val_accuracy: 0.4554\n",
      "Epoch 18/50\n",
      "625/625 [==============================] - 2s 3ms/step - loss: 1.1760 - accuracy: 0.6007 - val_loss: 1.5612 - val_accuracy: 0.4572\n",
      "Epoch 19/50\n",
      "625/625 [==============================] - 1s 2ms/step - loss: 1.1566 - accuracy: 0.6055 - val_loss: 1.5652 - val_accuracy: 0.4560\n",
      "Epoch 20/50\n",
      "625/625 [==============================] - 1s 2ms/step - loss: 1.1347 - accuracy: 0.6135 - val_loss: 1.5493 - val_accuracy: 0.4664\n",
      "Epoch 21/50\n",
      "625/625 [==============================] - 1s 2ms/step - loss: 1.1157 - accuracy: 0.6216 - val_loss: 1.5502 - val_accuracy: 0.4574\n",
      "Epoch 22/50\n",
      "625/625 [==============================] - 1s 2ms/step - loss: 1.0933 - accuracy: 0.6307 - val_loss: 1.5569 - val_accuracy: 0.4698\n",
      "Epoch 23/50\n",
      "625/625 [==============================] - 2s 3ms/step - loss: 1.0742 - accuracy: 0.6382 - val_loss: 1.5529 - val_accuracy: 0.4640\n",
      "Epoch 24/50\n",
      "625/625 [==============================] - 1s 2ms/step - loss: 1.0552 - accuracy: 0.6429 - val_loss: 1.5683 - val_accuracy: 0.4650\n",
      "Epoch 25/50\n",
      "625/625 [==============================] - 2s 3ms/step - loss: 1.0336 - accuracy: 0.6521 - val_loss: 1.5836 - val_accuracy: 0.4566\n",
      "782/782 [==============================] - 1s 1ms/step - loss: 1.5629 - accuracy: 0.4603\n",
      "Epoch 1/50\n",
      "625/625 [==============================] - 2s 3ms/step - loss: 1.9749 - accuracy: 0.3076 - val_loss: 1.7681 - val_accuracy: 0.3780\n",
      "Epoch 2/50\n",
      "625/625 [==============================] - 2s 3ms/step - loss: 1.7182 - accuracy: 0.3922 - val_loss: 1.6837 - val_accuracy: 0.4022\n",
      "Epoch 3/50\n",
      "625/625 [==============================] - 2s 3ms/step - loss: 1.6259 - accuracy: 0.4315 - val_loss: 1.6466 - val_accuracy: 0.4164\n",
      "Epoch 4/50\n",
      "625/625 [==============================] - 2s 3ms/step - loss: 1.5643 - accuracy: 0.4502 - val_loss: 1.6136 - val_accuracy: 0.4240\n",
      "Epoch 5/50\n",
      "625/625 [==============================] - 2s 3ms/step - loss: 1.5149 - accuracy: 0.4706 - val_loss: 1.5932 - val_accuracy: 0.4318\n",
      "Epoch 6/50\n",
      "625/625 [==============================] - 2s 3ms/step - loss: 1.4719 - accuracy: 0.4836 - val_loss: 1.5739 - val_accuracy: 0.4390\n",
      "Epoch 7/50\n",
      "625/625 [==============================] - 2s 3ms/step - loss: 1.4359 - accuracy: 0.5010 - val_loss: 1.5681 - val_accuracy: 0.4452\n",
      "Epoch 8/50\n",
      "625/625 [==============================] - 2s 3ms/step - loss: 1.4033 - accuracy: 0.5125 - val_loss: 1.5589 - val_accuracy: 0.4468\n",
      "Epoch 9/50\n",
      "625/625 [==============================] - 2s 3ms/step - loss: 1.3718 - accuracy: 0.5233 - val_loss: 1.5482 - val_accuracy: 0.4488\n",
      "Epoch 10/50\n",
      "625/625 [==============================] - 2s 3ms/step - loss: 1.3441 - accuracy: 0.5311 - val_loss: 1.5391 - val_accuracy: 0.4546\n",
      "Epoch 11/50\n",
      "625/625 [==============================] - 2s 3ms/step - loss: 1.3159 - accuracy: 0.5418 - val_loss: 1.5379 - val_accuracy: 0.4548\n",
      "Epoch 12/50\n",
      "625/625 [==============================] - 2s 2ms/step - loss: 1.2920 - accuracy: 0.5490 - val_loss: 1.5333 - val_accuracy: 0.4576\n",
      "Epoch 13/50\n",
      "625/625 [==============================] - 2s 3ms/step - loss: 1.2667 - accuracy: 0.5581 - val_loss: 1.5295 - val_accuracy: 0.4618\n",
      "Epoch 14/50\n",
      "625/625 [==============================] - 2s 3ms/step - loss: 1.2427 - accuracy: 0.5699 - val_loss: 1.5260 - val_accuracy: 0.4556\n",
      "Epoch 15/50\n",
      "625/625 [==============================] - 2s 3ms/step - loss: 1.2204 - accuracy: 0.5763 - val_loss: 1.5237 - val_accuracy: 0.4610\n",
      "Epoch 16/50\n",
      "625/625 [==============================] - 2s 3ms/step - loss: 1.1989 - accuracy: 0.5871 - val_loss: 1.5208 - val_accuracy: 0.4636\n",
      "Epoch 17/50\n",
      "625/625 [==============================] - 2s 3ms/step - loss: 1.1768 - accuracy: 0.5935 - val_loss: 1.5359 - val_accuracy: 0.4590\n",
      "Epoch 18/50\n",
      "625/625 [==============================] - 2s 3ms/step - loss: 1.1555 - accuracy: 0.6018 - val_loss: 1.5246 - val_accuracy: 0.4640\n",
      "Epoch 19/50\n",
      "625/625 [==============================] - 2s 3ms/step - loss: 1.1354 - accuracy: 0.6083 - val_loss: 1.5226 - val_accuracy: 0.4698\n",
      "Epoch 20/50\n",
      "625/625 [==============================] - 2s 3ms/step - loss: 1.1156 - accuracy: 0.6172 - val_loss: 1.5358 - val_accuracy: 0.4656\n",
      "Epoch 21/50\n",
      "625/625 [==============================] - 2s 3ms/step - loss: 1.0964 - accuracy: 0.6206 - val_loss: 1.5278 - val_accuracy: 0.4664\n",
      "782/782 [==============================] - 1s 1ms/step - loss: 1.5548 - accuracy: 0.4593\n",
      "Epoch 1/50\n",
      "625/625 [==============================] - 3s 5ms/step - loss: 1.9678 - accuracy: 0.3190 - val_loss: 1.7939 - val_accuracy: 0.3702\n",
      "Epoch 2/50\n",
      "625/625 [==============================] - 3s 4ms/step - loss: 1.6833 - accuracy: 0.4115 - val_loss: 1.7238 - val_accuracy: 0.3946\n",
      "Epoch 3/50\n",
      "625/625 [==============================] - 3s 4ms/step - loss: 1.5755 - accuracy: 0.4500 - val_loss: 1.6693 - val_accuracy: 0.4152\n",
      "Epoch 4/50\n",
      "625/625 [==============================] - 3s 4ms/step - loss: 1.5051 - accuracy: 0.4766 - val_loss: 1.6224 - val_accuracy: 0.4276\n",
      "Epoch 5/50\n",
      "625/625 [==============================] - 3s 4ms/step - loss: 1.4505 - accuracy: 0.4952 - val_loss: 1.6027 - val_accuracy: 0.4350\n",
      "Epoch 6/50\n",
      "625/625 [==============================] - 3s 4ms/step - loss: 1.4005 - accuracy: 0.5163 - val_loss: 1.5932 - val_accuracy: 0.4360\n",
      "Epoch 7/50\n",
      "625/625 [==============================] - 3s 4ms/step - loss: 1.3593 - accuracy: 0.5301 - val_loss: 1.5693 - val_accuracy: 0.4496\n",
      "Epoch 8/50\n",
      "625/625 [==============================] - 3s 4ms/step - loss: 1.3184 - accuracy: 0.5447 - val_loss: 1.5573 - val_accuracy: 0.4592\n",
      "Epoch 9/50\n",
      "625/625 [==============================] - 3s 4ms/step - loss: 1.2839 - accuracy: 0.5598 - val_loss: 1.5474 - val_accuracy: 0.4578\n",
      "Epoch 10/50\n",
      "625/625 [==============================] - 3s 4ms/step - loss: 1.2478 - accuracy: 0.5734 - val_loss: 1.5506 - val_accuracy: 0.4596\n",
      "Epoch 11/50\n",
      "625/625 [==============================] - 3s 4ms/step - loss: 1.2134 - accuracy: 0.5893 - val_loss: 1.5352 - val_accuracy: 0.4628\n",
      "Epoch 12/50\n",
      "625/625 [==============================] - 3s 4ms/step - loss: 1.1822 - accuracy: 0.6018 - val_loss: 1.5382 - val_accuracy: 0.4598\n",
      "Epoch 13/50\n",
      "625/625 [==============================] - 3s 4ms/step - loss: 1.1510 - accuracy: 0.6121 - val_loss: 1.5291 - val_accuracy: 0.4672\n",
      "Epoch 14/50\n",
      "625/625 [==============================] - 3s 4ms/step - loss: 1.1197 - accuracy: 0.6215 - val_loss: 1.5273 - val_accuracy: 0.4708\n",
      "Epoch 15/50\n",
      "625/625 [==============================] - 3s 4ms/step - loss: 1.0912 - accuracy: 0.6315 - val_loss: 1.5325 - val_accuracy: 0.4722\n",
      "Epoch 16/50\n",
      "625/625 [==============================] - 3s 4ms/step - loss: 1.0615 - accuracy: 0.6443 - val_loss: 1.5298 - val_accuracy: 0.4686\n",
      "Epoch 17/50\n",
      "625/625 [==============================] - 3s 4ms/step - loss: 1.0340 - accuracy: 0.6551 - val_loss: 1.5399 - val_accuracy: 0.4664\n",
      "Epoch 18/50\n",
      "625/625 [==============================] - 2s 4ms/step - loss: 1.0043 - accuracy: 0.6677 - val_loss: 1.5347 - val_accuracy: 0.4694\n",
      "Epoch 19/50\n",
      "625/625 [==============================] - 2s 4ms/step - loss: 0.9782 - accuracy: 0.6765 - val_loss: 1.5476 - val_accuracy: 0.4674\n",
      "782/782 [==============================] - 1s 2ms/step - loss: 1.5393 - accuracy: 0.4666\n",
      "Epoch 1/50\n",
      "625/625 [==============================] - 2s 4ms/step - loss: 1.9494 - accuracy: 0.3232 - val_loss: 1.7542 - val_accuracy: 0.3828\n",
      "Epoch 2/50\n",
      "625/625 [==============================] - 2s 4ms/step - loss: 1.6693 - accuracy: 0.4139 - val_loss: 1.6561 - val_accuracy: 0.4226\n",
      "Epoch 3/50\n",
      "625/625 [==============================] - 2s 4ms/step - loss: 1.5626 - accuracy: 0.4522 - val_loss: 1.6230 - val_accuracy: 0.4276\n",
      "Epoch 4/50\n",
      "625/625 [==============================] - 2s 4ms/step - loss: 1.4903 - accuracy: 0.4775 - val_loss: 1.5871 - val_accuracy: 0.4442\n",
      "Epoch 5/50\n",
      "625/625 [==============================] - 2s 4ms/step - loss: 1.4346 - accuracy: 0.4997 - val_loss: 1.5683 - val_accuracy: 0.4474\n",
      "Epoch 6/50\n",
      "625/625 [==============================] - 2s 4ms/step - loss: 1.3848 - accuracy: 0.5217 - val_loss: 1.5514 - val_accuracy: 0.4566\n",
      "Epoch 7/50\n",
      "625/625 [==============================] - 2s 4ms/step - loss: 1.3454 - accuracy: 0.5344 - val_loss: 1.5478 - val_accuracy: 0.4634\n"
     ]
    },
    {
     "name": "stdout",
     "output_type": "stream",
     "text": [
      "Epoch 8/50\n",
      "625/625 [==============================] - 2s 4ms/step - loss: 1.3078 - accuracy: 0.5508 - val_loss: 1.5404 - val_accuracy: 0.4630\n",
      "Epoch 9/50\n",
      "625/625 [==============================] - 2s 4ms/step - loss: 1.2714 - accuracy: 0.5643 - val_loss: 1.5323 - val_accuracy: 0.4632\n",
      "Epoch 10/50\n",
      "625/625 [==============================] - 2s 4ms/step - loss: 1.2391 - accuracy: 0.5792 - val_loss: 1.5293 - val_accuracy: 0.4696\n",
      "Epoch 11/50\n",
      "625/625 [==============================] - 2s 4ms/step - loss: 1.2060 - accuracy: 0.5907 - val_loss: 1.5273 - val_accuracy: 0.4698\n",
      "Epoch 12/50\n",
      "625/625 [==============================] - 2s 4ms/step - loss: 1.1780 - accuracy: 0.6011 - val_loss: 1.5252 - val_accuracy: 0.4708\n",
      "Epoch 13/50\n",
      "625/625 [==============================] - 2s 4ms/step - loss: 1.1478 - accuracy: 0.6138 - val_loss: 1.5261 - val_accuracy: 0.4702\n",
      "Epoch 14/50\n",
      "625/625 [==============================] - 2s 4ms/step - loss: 1.1190 - accuracy: 0.6241 - val_loss: 1.5316 - val_accuracy: 0.4716\n",
      "Epoch 15/50\n",
      "625/625 [==============================] - 2s 4ms/step - loss: 1.0906 - accuracy: 0.6333 - val_loss: 1.5323 - val_accuracy: 0.4690\n",
      "Epoch 16/50\n",
      "625/625 [==============================] - 2s 4ms/step - loss: 1.0624 - accuracy: 0.6445 - val_loss: 1.5337 - val_accuracy: 0.4730\n",
      "Epoch 17/50\n",
      "625/625 [==============================] - 2s 4ms/step - loss: 1.0366 - accuracy: 0.6530 - val_loss: 1.5472 - val_accuracy: 0.4718\n",
      "782/782 [==============================] - 1s 2ms/step - loss: 1.5597 - accuracy: 0.4570\n",
      "Epoch 1/50\n",
      "625/625 [==============================] - 2s 2ms/step - loss: 1.9905 - accuracy: 0.2961 - val_loss: 1.8252 - val_accuracy: 0.3586\n",
      "Epoch 2/50\n",
      "625/625 [==============================] - 1s 2ms/step - loss: 1.7314 - accuracy: 0.3891 - val_loss: 1.7413 - val_accuracy: 0.3868\n",
      "Epoch 3/50\n",
      "625/625 [==============================] - 1s 2ms/step - loss: 1.6327 - accuracy: 0.4275 - val_loss: 1.6871 - val_accuracy: 0.4048\n",
      "Epoch 4/50\n",
      "625/625 [==============================] - 1s 2ms/step - loss: 1.5676 - accuracy: 0.4525 - val_loss: 1.6499 - val_accuracy: 0.4178\n",
      "Epoch 5/50\n",
      "625/625 [==============================] - 1s 2ms/step - loss: 1.5169 - accuracy: 0.4695 - val_loss: 1.6317 - val_accuracy: 0.4222\n",
      "Epoch 6/50\n",
      "625/625 [==============================] - 1s 2ms/step - loss: 1.4723 - accuracy: 0.4872 - val_loss: 1.6114 - val_accuracy: 0.4360\n",
      "Epoch 7/50\n",
      "625/625 [==============================] - 1s 2ms/step - loss: 1.4348 - accuracy: 0.5025 - val_loss: 1.5923 - val_accuracy: 0.4380\n",
      "Epoch 8/50\n",
      "625/625 [==============================] - 1s 2ms/step - loss: 1.3994 - accuracy: 0.5142 - val_loss: 1.5787 - val_accuracy: 0.4424\n",
      "Epoch 9/50\n",
      "625/625 [==============================] - 1s 2ms/step - loss: 1.3692 - accuracy: 0.5216 - val_loss: 1.5690 - val_accuracy: 0.4506\n",
      "Epoch 10/50\n",
      "625/625 [==============================] - 1s 2ms/step - loss: 1.3375 - accuracy: 0.5355 - val_loss: 1.5619 - val_accuracy: 0.4492\n",
      "Epoch 11/50\n",
      "625/625 [==============================] - 1s 2ms/step - loss: 1.3091 - accuracy: 0.5458 - val_loss: 1.5536 - val_accuracy: 0.4564\n",
      "Epoch 12/50\n",
      "625/625 [==============================] - 1s 2ms/step - loss: 1.2834 - accuracy: 0.5584 - val_loss: 1.5548 - val_accuracy: 0.4576\n",
      "Epoch 13/50\n",
      "625/625 [==============================] - 1s 2ms/step - loss: 1.2572 - accuracy: 0.5656 - val_loss: 1.5500 - val_accuracy: 0.4548\n",
      "Epoch 14/50\n",
      "625/625 [==============================] - 1s 2ms/step - loss: 1.2317 - accuracy: 0.5766 - val_loss: 1.5534 - val_accuracy: 0.4558\n",
      "Epoch 15/50\n",
      "625/625 [==============================] - 1s 2ms/step - loss: 1.2083 - accuracy: 0.5856 - val_loss: 1.5509 - val_accuracy: 0.4600\n",
      "Epoch 16/50\n",
      "625/625 [==============================] - 1s 2ms/step - loss: 1.1830 - accuracy: 0.5950 - val_loss: 1.5540 - val_accuracy: 0.4600\n",
      "Epoch 17/50\n",
      "625/625 [==============================] - 2s 2ms/step - loss: 1.1603 - accuracy: 0.6041 - val_loss: 1.5540 - val_accuracy: 0.4636\n",
      "Epoch 18/50\n",
      "625/625 [==============================] - 1s 2ms/step - loss: 1.1363 - accuracy: 0.6123 - val_loss: 1.5584 - val_accuracy: 0.4608\n",
      "782/782 [==============================] - 1s 1ms/step - loss: 1.5590 - accuracy: 0.4566\n",
      "Epoch 1/50\n",
      "625/625 [==============================] - 2s 2ms/step - loss: 1.9904 - accuracy: 0.3038 - val_loss: 1.8044 - val_accuracy: 0.3616\n",
      "Epoch 2/50\n",
      "625/625 [==============================] - 1s 2ms/step - loss: 1.7231 - accuracy: 0.3949 - val_loss: 1.7058 - val_accuracy: 0.3984\n",
      "Epoch 3/50\n",
      "625/625 [==============================] - 1s 2ms/step - loss: 1.6206 - accuracy: 0.4286 - val_loss: 1.6589 - val_accuracy: 0.4102\n",
      "Epoch 4/50\n",
      "625/625 [==============================] - 1s 2ms/step - loss: 1.5524 - accuracy: 0.4537 - val_loss: 1.6190 - val_accuracy: 0.4256\n",
      "Epoch 5/50\n",
      "625/625 [==============================] - 1s 2ms/step - loss: 1.4996 - accuracy: 0.4715 - val_loss: 1.5995 - val_accuracy: 0.4296\n",
      "Epoch 6/50\n",
      "625/625 [==============================] - 1s 2ms/step - loss: 1.4549 - accuracy: 0.4867 - val_loss: 1.5767 - val_accuracy: 0.4366\n",
      "Epoch 7/50\n",
      "625/625 [==============================] - 1s 2ms/step - loss: 1.4161 - accuracy: 0.5052 - val_loss: 1.5691 - val_accuracy: 0.4448\n",
      "Epoch 8/50\n",
      "625/625 [==============================] - 1s 2ms/step - loss: 1.3831 - accuracy: 0.5138 - val_loss: 1.5551 - val_accuracy: 0.4466\n",
      "Epoch 9/50\n",
      "625/625 [==============================] - 1s 2ms/step - loss: 1.3504 - accuracy: 0.5268 - val_loss: 1.5487 - val_accuracy: 0.4528\n",
      "Epoch 10/50\n",
      "625/625 [==============================] - 1s 2ms/step - loss: 1.3208 - accuracy: 0.5368 - val_loss: 1.5500 - val_accuracy: 0.4544\n",
      "Epoch 11/50\n",
      "625/625 [==============================] - 1s 2ms/step - loss: 1.2933 - accuracy: 0.5504 - val_loss: 1.5431 - val_accuracy: 0.4514\n",
      "Epoch 12/50\n",
      "625/625 [==============================] - 1s 2ms/step - loss: 1.2686 - accuracy: 0.5588 - val_loss: 1.5434 - val_accuracy: 0.4584\n",
      "Epoch 13/50\n",
      "625/625 [==============================] - 1s 2ms/step - loss: 1.2422 - accuracy: 0.5666 - val_loss: 1.5370 - val_accuracy: 0.4608\n",
      "Epoch 14/50\n",
      "625/625 [==============================] - 1s 2ms/step - loss: 1.2167 - accuracy: 0.5812 - val_loss: 1.5356 - val_accuracy: 0.4606\n",
      "Epoch 15/50\n",
      "625/625 [==============================] - 1s 2ms/step - loss: 1.1927 - accuracy: 0.5858 - val_loss: 1.5372 - val_accuracy: 0.4574\n",
      "Epoch 16/50\n",
      "625/625 [==============================] - 1s 2ms/step - loss: 1.1687 - accuracy: 0.5976 - val_loss: 1.5388 - val_accuracy: 0.4610\n",
      "Epoch 17/50\n",
      "625/625 [==============================] - 1s 2ms/step - loss: 1.1465 - accuracy: 0.6025 - val_loss: 1.5429 - val_accuracy: 0.4662\n",
      "Epoch 18/50\n",
      "625/625 [==============================] - 1s 2ms/step - loss: 1.1230 - accuracy: 0.6136 - val_loss: 1.5346 - val_accuracy: 0.4674\n",
      "Epoch 19/50\n",
      "625/625 [==============================] - 1s 2ms/step - loss: 1.1030 - accuracy: 0.6194 - val_loss: 1.5429 - val_accuracy: 0.4640\n",
      "Epoch 20/50\n",
      "625/625 [==============================] - 1s 2ms/step - loss: 1.0816 - accuracy: 0.6323 - val_loss: 1.5519 - val_accuracy: 0.4658\n",
      "Epoch 21/50\n",
      "625/625 [==============================] - 1s 2ms/step - loss: 1.0600 - accuracy: 0.6369 - val_loss: 1.5476 - val_accuracy: 0.4582\n",
      "Epoch 22/50\n",
      "625/625 [==============================] - 1s 2ms/step - loss: 1.0363 - accuracy: 0.6457 - val_loss: 1.5571 - val_accuracy: 0.4676\n",
      "Epoch 23/50\n",
      "625/625 [==============================] - 1s 2ms/step - loss: 1.0165 - accuracy: 0.6559 - val_loss: 1.5658 - val_accuracy: 0.4640\n",
      "782/782 [==============================] - 1s 1ms/step - loss: 1.5736 - accuracy: 0.4568\n",
      "Epoch 1/50\n",
      "625/625 [==============================] - 3s 4ms/step - loss: 1.9571 - accuracy: 0.3169 - val_loss: 1.7822 - val_accuracy: 0.3710\n",
      "Epoch 2/50\n",
      "625/625 [==============================] - 3s 4ms/step - loss: 1.6824 - accuracy: 0.4073 - val_loss: 1.7091 - val_accuracy: 0.3932\n",
      "Epoch 3/50\n",
      "625/625 [==============================] - 3s 4ms/step - loss: 1.5734 - accuracy: 0.4482 - val_loss: 1.6644 - val_accuracy: 0.4100\n",
      "Epoch 4/50\n",
      "625/625 [==============================] - 3s 4ms/step - loss: 1.5022 - accuracy: 0.4735 - val_loss: 1.6235 - val_accuracy: 0.4180\n",
      "Epoch 5/50\n"
     ]
    },
    {
     "name": "stdout",
     "output_type": "stream",
     "text": [
      "625/625 [==============================] - 2s 4ms/step - loss: 1.4439 - accuracy: 0.4967 - val_loss: 1.6050 - val_accuracy: 0.4268\n",
      "Epoch 6/50\n",
      "625/625 [==============================] - 3s 4ms/step - loss: 1.3906 - accuracy: 0.5185 - val_loss: 1.5914 - val_accuracy: 0.4340\n",
      "Epoch 7/50\n",
      "625/625 [==============================] - 2s 4ms/step - loss: 1.3465 - accuracy: 0.5365 - val_loss: 1.5708 - val_accuracy: 0.4442\n",
      "Epoch 8/50\n",
      "625/625 [==============================] - 3s 4ms/step - loss: 1.3029 - accuracy: 0.5509 - val_loss: 1.5622 - val_accuracy: 0.4530\n",
      "Epoch 9/50\n",
      "625/625 [==============================] - 3s 4ms/step - loss: 1.2651 - accuracy: 0.5650 - val_loss: 1.5580 - val_accuracy: 0.4470\n",
      "Epoch 10/50\n",
      "625/625 [==============================] - 3s 4ms/step - loss: 1.2270 - accuracy: 0.5804 - val_loss: 1.5617 - val_accuracy: 0.4524\n",
      "Epoch 11/50\n",
      "625/625 [==============================] - 2s 4ms/step - loss: 1.1907 - accuracy: 0.5956 - val_loss: 1.5481 - val_accuracy: 0.4516\n",
      "Epoch 12/50\n",
      "625/625 [==============================] - 2s 4ms/step - loss: 1.1565 - accuracy: 0.6076 - val_loss: 1.5528 - val_accuracy: 0.4518\n",
      "Epoch 13/50\n",
      "625/625 [==============================] - 2s 4ms/step - loss: 1.1226 - accuracy: 0.6212 - val_loss: 1.5523 - val_accuracy: 0.4544\n",
      "Epoch 14/50\n",
      "625/625 [==============================] - 3s 4ms/step - loss: 1.0883 - accuracy: 0.6305 - val_loss: 1.5599 - val_accuracy: 0.4548\n",
      "Epoch 15/50\n",
      "625/625 [==============================] - 2s 4ms/step - loss: 1.0584 - accuracy: 0.6444 - val_loss: 1.5551 - val_accuracy: 0.4594\n",
      "Epoch 16/50\n",
      "625/625 [==============================] - 3s 4ms/step - loss: 1.0246 - accuracy: 0.6552 - val_loss: 1.5596 - val_accuracy: 0.4582\n",
      "782/782 [==============================] - 1s 2ms/step - loss: 1.5419 - accuracy: 0.4582\n",
      "Epoch 1/50\n",
      "625/625 [==============================] - 3s 4ms/step - loss: 1.9335 - accuracy: 0.3214 - val_loss: 1.7416 - val_accuracy: 0.3756\n",
      "Epoch 2/50\n",
      "625/625 [==============================] - 3s 4ms/step - loss: 1.6626 - accuracy: 0.4121 - val_loss: 1.6536 - val_accuracy: 0.4092\n",
      "Epoch 3/50\n",
      "625/625 [==============================] - 3s 4ms/step - loss: 1.5545 - accuracy: 0.4575 - val_loss: 1.6198 - val_accuracy: 0.4170\n",
      "Epoch 4/50\n",
      "625/625 [==============================] - 3s 4ms/step - loss: 1.4806 - accuracy: 0.4819 - val_loss: 1.5871 - val_accuracy: 0.4308\n",
      "Epoch 5/50\n",
      "625/625 [==============================] - 3s 4ms/step - loss: 1.4217 - accuracy: 0.5067 - val_loss: 1.5712 - val_accuracy: 0.4410\n",
      "Epoch 6/50\n",
      "625/625 [==============================] - 3s 4ms/step - loss: 1.3700 - accuracy: 0.5225 - val_loss: 1.5423 - val_accuracy: 0.4482\n",
      "Epoch 7/50\n",
      "625/625 [==============================] - 3s 4ms/step - loss: 1.3259 - accuracy: 0.5416 - val_loss: 1.5419 - val_accuracy: 0.4436\n",
      "Epoch 8/50\n",
      "625/625 [==============================] - 4s 7ms/step - loss: 1.2858 - accuracy: 0.5577 - val_loss: 1.5296 - val_accuracy: 0.4568\n",
      "Epoch 9/50\n",
      "625/625 [==============================] - 4s 7ms/step - loss: 1.2456 - accuracy: 0.5730 - val_loss: 1.5233 - val_accuracy: 0.4618\n",
      "Epoch 10/50\n",
      "625/625 [==============================] - 4s 6ms/step - loss: 1.2096 - accuracy: 0.5856 - val_loss: 1.5227 - val_accuracy: 0.4618\n",
      "Epoch 11/50\n",
      "625/625 [==============================] - 3s 5ms/step - loss: 1.1724 - accuracy: 0.5994 - val_loss: 1.5165 - val_accuracy: 0.4662\n",
      "Epoch 12/50\n",
      "625/625 [==============================] - 5s 8ms/step - loss: 1.1405 - accuracy: 0.6117 - val_loss: 1.5284 - val_accuracy: 0.4620\n",
      "Epoch 13/50\n",
      "625/625 [==============================] - 3s 5ms/step - loss: 1.1071 - accuracy: 0.6232 - val_loss: 1.5129 - val_accuracy: 0.4706\n",
      "Epoch 14/50\n",
      "625/625 [==============================] - 3s 4ms/step - loss: 1.0741 - accuracy: 0.6394 - val_loss: 1.5217 - val_accuracy: 0.4694\n",
      "Epoch 15/50\n",
      "625/625 [==============================] - 3s 5ms/step - loss: 1.0418 - accuracy: 0.6501 - val_loss: 1.5226 - val_accuracy: 0.4708\n",
      "Epoch 16/50\n",
      "625/625 [==============================] - 2s 4ms/step - loss: 1.0107 - accuracy: 0.6633 - val_loss: 1.5214 - val_accuracy: 0.4710\n",
      "Epoch 17/50\n",
      "625/625 [==============================] - 2s 3ms/step - loss: 0.9788 - accuracy: 0.6738 - val_loss: 1.5410 - val_accuracy: 0.4702\n",
      "Epoch 18/50\n",
      "625/625 [==============================] - 2s 4ms/step - loss: 0.9484 - accuracy: 0.6859 - val_loss: 1.5478 - val_accuracy: 0.4764\n",
      "782/782 [==============================] - 1s 2ms/step - loss: 1.5615 - accuracy: 0.4620\n",
      "Epoch 1/50\n",
      "1250/1250 [==============================] - 4s 3ms/step - loss: 1.8596 - accuracy: 0.3498 - val_loss: 1.7300 - val_accuracy: 0.3989\n",
      "Epoch 2/50\n",
      "1250/1250 [==============================] - 4s 3ms/step - loss: 1.6163 - accuracy: 0.4326 - val_loss: 1.6472 - val_accuracy: 0.4249\n",
      "Epoch 3/50\n",
      "1250/1250 [==============================] - 7s 6ms/step - loss: 1.5268 - accuracy: 0.4679 - val_loss: 1.5941 - val_accuracy: 0.4404\n",
      "Epoch 4/50\n",
      "1250/1250 [==============================] - 7s 5ms/step - loss: 1.4679 - accuracy: 0.4868 - val_loss: 1.5645 - val_accuracy: 0.4497\n",
      "Epoch 5/50\n",
      "1250/1250 [==============================] - 7s 5ms/step - loss: 1.4200 - accuracy: 0.5074 - val_loss: 1.5480 - val_accuracy: 0.4554\n",
      "Epoch 6/50\n",
      "1250/1250 [==============================] - 7s 5ms/step - loss: 1.3797 - accuracy: 0.5222 - val_loss: 1.5267 - val_accuracy: 0.4621\n",
      "Epoch 7/50\n",
      "1250/1250 [==============================] - 5s 4ms/step - loss: 1.3447 - accuracy: 0.5335 - val_loss: 1.5064 - val_accuracy: 0.4703\n",
      "Epoch 8/50\n",
      "1250/1250 [==============================] - 4s 3ms/step - loss: 1.3122 - accuracy: 0.5452 - val_loss: 1.4958 - val_accuracy: 0.4741\n",
      "Epoch 9/50\n",
      "1250/1250 [==============================] - 4s 3ms/step - loss: 1.2815 - accuracy: 0.5562 - val_loss: 1.4826 - val_accuracy: 0.4809\n",
      "Epoch 10/50\n",
      "1250/1250 [==============================] - 4s 3ms/step - loss: 1.2553 - accuracy: 0.5666 - val_loss: 1.4837 - val_accuracy: 0.4783\n",
      "Epoch 11/50\n",
      "1250/1250 [==============================] - 4s 3ms/step - loss: 1.2286 - accuracy: 0.5756 - val_loss: 1.4674 - val_accuracy: 0.4867\n",
      "Epoch 12/50\n",
      "1250/1250 [==============================] - 4s 3ms/step - loss: 1.2045 - accuracy: 0.5831 - val_loss: 1.4575 - val_accuracy: 0.4903\n",
      "Epoch 13/50\n",
      "1250/1250 [==============================] - 4s 3ms/step - loss: 1.1786 - accuracy: 0.5926 - val_loss: 1.4555 - val_accuracy: 0.4937\n",
      "Epoch 14/50\n",
      "1250/1250 [==============================] - 4s 3ms/step - loss: 1.1557 - accuracy: 0.6024 - val_loss: 1.4549 - val_accuracy: 0.4975\n",
      "Epoch 15/50\n",
      "1250/1250 [==============================] - 4s 3ms/step - loss: 1.1334 - accuracy: 0.6099 - val_loss: 1.4493 - val_accuracy: 0.4971\n",
      "Epoch 16/50\n",
      "1250/1250 [==============================] - 4s 3ms/step - loss: 1.1113 - accuracy: 0.6165 - val_loss: 1.4426 - val_accuracy: 0.5010\n",
      "Epoch 17/50\n",
      "1250/1250 [==============================] - 4s 3ms/step - loss: 1.0882 - accuracy: 0.6276 - val_loss: 1.4584 - val_accuracy: 0.4963\n",
      "Epoch 18/50\n",
      "1250/1250 [==============================] - 4s 3ms/step - loss: 1.0681 - accuracy: 0.6339 - val_loss: 1.4412 - val_accuracy: 0.4991\n",
      "Epoch 19/50\n",
      "1250/1250 [==============================] - 4s 3ms/step - loss: 1.0460 - accuracy: 0.6421 - val_loss: 1.4509 - val_accuracy: 0.4984\n",
      "Epoch 20/50\n",
      "1250/1250 [==============================] - 4s 3ms/step - loss: 1.0259 - accuracy: 0.6495 - val_loss: 1.4548 - val_accuracy: 0.5012\n",
      "Epoch 21/50\n",
      "1250/1250 [==============================] - 4s 3ms/step - loss: 1.0067 - accuracy: 0.6572 - val_loss: 1.4417 - val_accuracy: 0.5058\n",
      "Epoch 22/50\n",
      "1250/1250 [==============================] - 4s 3ms/step - loss: 0.9863 - accuracy: 0.6658 - val_loss: 1.4417 - val_accuracy: 0.5048\n",
      "Epoch 23/50\n",
      "1250/1250 [==============================] - 4s 3ms/step - loss: 0.9669 - accuracy: 0.6729 - val_loss: 1.4485 - val_accuracy: 0.5046\n"
     ]
    },
    {
     "data": {
      "text/plain": [
       "GridSearchCV(cv=2,\n",
       "             estimator=<tensorflow.python.keras.wrappers.scikit_learn.KerasClassifier object at 0x7fcb590a3700>,\n",
       "             param_grid={'n_hidden': [4, 5, 6, 7], 'n_neurons': [128, 256]})"
      ]
     },
     "execution_count": 131,
     "metadata": {},
     "output_type": "execute_result"
    }
   ],
   "source": [
    "from sklearn.model_selection import GridSearchCV\n",
    "\n",
    "params={\"n_hidden\":[4,5,6,7],\n",
    "       \"n_neurons\":[128,256]}\n",
    "\n",
    "model_cv = GridSearchCV(wrapper,params,cv=2)\n",
    "model_cv.fit(X_train_new,y_train,validation_split=0.2,epochs=50,callbacks=[early_stopping_cb])"
   ]
  },
  {
   "cell_type": "code",
   "execution_count": 132,
   "metadata": {
    "ExecuteTime": {
     "end_time": "2021-03-06T05:32:33.669751Z",
     "start_time": "2021-03-06T05:32:33.665590Z"
    }
   },
   "outputs": [
    {
     "data": {
      "text/plain": [
       "{'n_hidden': 5, 'n_neurons': 256}"
      ]
     },
     "execution_count": 132,
     "metadata": {},
     "output_type": "execute_result"
    }
   ],
   "source": [
    "model_cv.best_params_"
   ]
  },
  {
   "cell_type": "code",
   "execution_count": 148,
   "metadata": {
    "ExecuteTime": {
     "end_time": "2021-03-07T06:18:26.111176Z",
     "start_time": "2021-03-07T06:18:22.019039Z"
    }
   },
   "outputs": [
    {
     "name": "stdout",
     "output_type": "stream",
     "text": [
      "1563/1563 [==============================] - 2s 1ms/step - loss: 1.1082 - accuracy: 0.6231\n",
      "0.6231399774551392\n",
      "313/313 [==============================] - 0s 1ms/step - loss: 1.4277 - accuracy: 0.5033\n",
      "0.5033000111579895\n"
     ]
    }
   ],
   "source": [
    "print(model_cv.score(X_train_new,y_train))\n",
    "print(model_cv.score(X_test_new,y_test))"
   ]
  },
  {
   "cell_type": "markdown",
   "metadata": {},
   "source": [
    "## Save the model best checkpoint"
   ]
  },
  {
   "cell_type": "code",
   "execution_count": 136,
   "metadata": {
    "ExecuteTime": {
     "end_time": "2021-03-06T05:49:14.402858Z",
     "start_time": "2021-03-06T05:49:14.399391Z"
    }
   },
   "outputs": [],
   "source": [
    "from functools import partial"
   ]
  },
  {
   "cell_type": "code",
   "execution_count": 137,
   "metadata": {
    "ExecuteTime": {
     "end_time": "2021-03-06T05:50:20.491062Z",
     "start_time": "2021-03-06T05:50:20.488095Z"
    }
   },
   "outputs": [],
   "source": [
    "checkpoint_cb = keras.callbacks.ModelCheckpoint(\"best_cp\",monitor=\"val_accuracy\",save_best_only=True)"
   ]
  },
  {
   "cell_type": "markdown",
   "metadata": {},
   "source": [
    "when calling the best model gain, using function \"model\", save checkpoint experienced an error, thus, I defined a model again using the best_param"
   ]
  },
  {
   "cell_type": "code",
   "execution_count": 151,
   "metadata": {
    "ExecuteTime": {
     "end_time": "2021-03-07T06:27:48.942153Z",
     "start_time": "2021-03-07T06:27:48.867316Z"
    }
   },
   "outputs": [],
   "source": [
    "replayer= partial(keras.layers.Dense,activation=\"selu\") \n",
    "\n",
    "tf.random.set_seed(42)\n",
    "np.random.seed(42)\n",
    "\n",
    "#create the model again with 5 hidden layers and 256 nodes each\n",
    "best_cp = keras.models.Sequential([\n",
    "    keras.layers.Flatten(input_shape=[32,32,3]),\n",
    "    replayer(256),\n",
    "    replayer(256),\n",
    "    replayer(256),\n",
    "    replayer(256),\n",
    "    replayer(256),\n",
    "    replayer(10,activation=\"softmax\")  \n",
    "])\n",
    "\n",
    "best_cp.compile(optimizer=keras.optimizers.SGD(1e-3),\n",
    "                loss=keras.losses.sparse_categorical_crossentropy,\n",
    "                metrics=\"accuracy\"\n",
    "               )\n"
   ]
  },
  {
   "cell_type": "code",
   "execution_count": 152,
   "metadata": {
    "ExecuteTime": {
     "end_time": "2021-03-07T06:29:25.270681Z",
     "start_time": "2021-03-07T06:27:49.951583Z"
    },
    "scrolled": true
   },
   "outputs": [
    {
     "name": "stdout",
     "output_type": "stream",
     "text": [
      "Epoch 1/23\n",
      "1250/1250 [==============================] - 4s 3ms/step - loss: 1.9066 - accuracy: 0.3361 - val_loss: 1.7479 - val_accuracy: 0.3854\n",
      "Epoch 2/23\n",
      "1250/1250 [==============================] - 4s 3ms/step - loss: 1.6316 - accuracy: 0.4254 - val_loss: 1.6522 - val_accuracy: 0.4214\n",
      "Epoch 3/23\n",
      "1250/1250 [==============================] - 4s 3ms/step - loss: 1.5342 - accuracy: 0.4603 - val_loss: 1.5993 - val_accuracy: 0.4428\n",
      "Epoch 4/23\n",
      "1250/1250 [==============================] - 4s 3ms/step - loss: 1.4688 - accuracy: 0.4838 - val_loss: 1.5664 - val_accuracy: 0.4482\n",
      "Epoch 5/23\n",
      "1250/1250 [==============================] - 4s 3ms/step - loss: 1.4160 - accuracy: 0.5008 - val_loss: 1.5480 - val_accuracy: 0.4589\n",
      "Epoch 6/23\n",
      "1250/1250 [==============================] - 4s 3ms/step - loss: 1.3716 - accuracy: 0.5190 - val_loss: 1.5270 - val_accuracy: 0.4630\n",
      "Epoch 7/23\n",
      "1250/1250 [==============================] - 4s 3ms/step - loss: 1.3322 - accuracy: 0.5352 - val_loss: 1.5083 - val_accuracy: 0.4727\n",
      "Epoch 8/23\n",
      "1250/1250 [==============================] - 4s 3ms/step - loss: 1.2963 - accuracy: 0.5462 - val_loss: 1.4991 - val_accuracy: 0.4739\n",
      "Epoch 9/23\n",
      "1250/1250 [==============================] - 4s 3ms/step - loss: 1.2627 - accuracy: 0.5602 - val_loss: 1.4883 - val_accuracy: 0.4812\n",
      "Epoch 10/23\n",
      "1250/1250 [==============================] - 4s 3ms/step - loss: 1.2330 - accuracy: 0.5713 - val_loss: 1.4865 - val_accuracy: 0.4804\n",
      "Epoch 11/23\n",
      "1244/1250 [============================>.] - ETA: 0s - loss: 1.2041 - accuracy: 0.5820INFO:tensorflow:Assets written to: best_cp/assets\n",
      "1250/1250 [==============================] - 4s 4ms/step - loss: 1.2041 - accuracy: 0.5818 - val_loss: 1.4735 - val_accuracy: 0.4928\n",
      "Epoch 12/23\n",
      "1250/1250 [==============================] - 4s 3ms/step - loss: 1.1777 - accuracy: 0.5896 - val_loss: 1.4652 - val_accuracy: 0.4927\n",
      "Epoch 13/23\n",
      "1250/1250 [==============================] - 4s 3ms/step - loss: 1.1494 - accuracy: 0.6007 - val_loss: 1.4692 - val_accuracy: 0.4896\n",
      "Epoch 14/23\n",
      "1242/1250 [============================>.] - ETA: 0s - loss: 1.1229 - accuracy: 0.6095INFO:tensorflow:Assets written to: best_cp/assets\n",
      "1250/1250 [==============================] - 5s 4ms/step - loss: 1.1237 - accuracy: 0.6092 - val_loss: 1.4703 - val_accuracy: 0.4947\n",
      "Epoch 15/23\n",
      "1240/1250 [============================>.] - ETA: 0s - loss: 1.0991 - accuracy: 0.6191INFO:tensorflow:Assets written to: best_cp/assets\n",
      "1250/1250 [==============================] - 5s 4ms/step - loss: 1.0993 - accuracy: 0.6191 - val_loss: 1.4636 - val_accuracy: 0.4973\n",
      "Epoch 16/23\n",
      "1250/1250 [==============================] - 4s 3ms/step - loss: 1.0740 - accuracy: 0.6293 - val_loss: 1.4609 - val_accuracy: 0.4954\n",
      "Epoch 17/23\n",
      "1250/1250 [==============================] - 4s 3ms/step - loss: 1.0487 - accuracy: 0.6375 - val_loss: 1.4768 - val_accuracy: 0.4943\n",
      "Epoch 18/23\n",
      "1247/1250 [============================>.] - ETA: 0s - loss: 1.0257 - accuracy: 0.6457INFO:tensorflow:Assets written to: best_cp/assets\n",
      "1250/1250 [==============================] - 4s 3ms/step - loss: 1.0257 - accuracy: 0.6457 - val_loss: 1.4673 - val_accuracy: 0.4995\n",
      "Epoch 19/23\n",
      "1240/1250 [============================>.] - ETA: 0s - loss: 1.0012 - accuracy: 0.6554INFO:tensorflow:Assets written to: best_cp/assets\n",
      "1250/1250 [==============================] - 5s 4ms/step - loss: 1.0015 - accuracy: 0.6552 - val_loss: 1.4726 - val_accuracy: 0.4997\n",
      "Epoch 20/23\n",
      "1250/1250 [==============================] - 4s 3ms/step - loss: 0.9795 - accuracy: 0.6641 - val_loss: 1.4813 - val_accuracy: 0.4984\n",
      "Epoch 21/23\n",
      "1248/1250 [============================>.] - ETA: 0s - loss: 0.9571 - accuracy: 0.6736INFO:tensorflow:Assets written to: best_cp/assets\n",
      "1250/1250 [==============================] - 4s 3ms/step - loss: 0.9572 - accuracy: 0.6734 - val_loss: 1.4725 - val_accuracy: 0.5046\n",
      "Epoch 22/23\n",
      "1250/1250 [==============================] - 4s 3ms/step - loss: 0.9345 - accuracy: 0.6821 - val_loss: 1.4795 - val_accuracy: 0.5006\n",
      "Epoch 23/23\n",
      "1250/1250 [==============================] - 4s 3ms/step - loss: 0.9131 - accuracy: 0.6881 - val_loss: 1.4906 - val_accuracy: 0.5040\n"
     ]
    },
    {
     "data": {
      "text/plain": [
       "<tensorflow.python.keras.callbacks.History at 0x7fcb7324c670>"
      ]
     },
     "execution_count": 152,
     "metadata": {},
     "output_type": "execute_result"
    }
   ],
   "source": [
    "best_cp.fit(X_train_new,y_train,validation_split=0.2,epochs=23,callbacks=[checkpoint_cb])"
   ]
  },
  {
   "cell_type": "code",
   "execution_count": 153,
   "metadata": {
    "ExecuteTime": {
     "end_time": "2021-03-07T06:29:42.499578Z",
     "start_time": "2021-03-07T06:29:37.960803Z"
    }
   },
   "outputs": [
    {
     "name": "stdout",
     "output_type": "stream",
     "text": [
      "1563/1563 [==============================] - 3s 2ms/step - loss: 0.9875 - accuracy: 0.6688\n",
      "[0.9875023365020752, 0.6687600016593933]\n",
      "313/313 [==============================] - 1s 2ms/step - loss: 1.4761 - accuracy: 0.4990\n",
      "[1.4761232137680054, 0.49900001287460327]\n"
     ]
    }
   ],
   "source": [
    "print(best_cp.evaluate(X_train_new,y_train))\n",
    "print(best_cp.evaluate(X_test_new,y_test))"
   ]
  },
  {
   "cell_type": "markdown",
   "metadata": {},
   "source": [
    "GridSearchCV (combine with early stopping_callback) and the best model checkpoint shown us approximately the same accuracy on the test set (50%), it is close to the baseline (50-60%). The model is OVERFIT. The accuracy on the test set is likely to experience a decrease when fixing the Overfit problem."
   ]
  },
  {
   "cell_type": "markdown",
   "metadata": {},
   "source": [
    "## Batch normalizer"
   ]
  },
  {
   "cell_type": "markdown",
   "metadata": {
    "ExecuteTime": {
     "end_time": "2021-03-07T09:16:10.910031Z",
     "start_time": "2021-03-07T09:16:10.855678Z"
    }
   },
   "source": [
    "Because we already used selu activation with Lecun normalizer, it keeped the data normalized after going through each layer, thus, batch normalizer is not applied here"
   ]
  },
  {
   "cell_type": "markdown",
   "metadata": {},
   "source": [
    "## TensorBoard"
   ]
  },
  {
   "cell_type": "code",
   "execution_count": 242,
   "metadata": {
    "ExecuteTime": {
     "end_time": "2021-03-07T10:01:44.179349Z",
     "start_time": "2021-03-07T10:01:44.176005Z"
    }
   },
   "outputs": [],
   "source": [
    "import os\n",
    "\n",
    "root_dir=os.path.join(os.curdir,\"my_logs\")"
   ]
  },
  {
   "cell_type": "code",
   "execution_count": 244,
   "metadata": {
    "ExecuteTime": {
     "end_time": "2021-03-07T10:04:36.097269Z",
     "start_time": "2021-03-07T10:03:24.779302Z"
    },
    "scrolled": true
   },
   "outputs": [
    {
     "name": "stdout",
     "output_type": "stream",
     "text": [
      "WARNING:tensorflow:Model failed to serialize as JSON. Ignoring... get_config() missing 1 required positional argument: 'self'\n",
      "Epoch 1/20\n",
      "   1/1250 [..............................] - ETA: 0s - loss: 2.4514 - accuracy: 0.2500WARNING:tensorflow:Callbacks method `on_train_batch_end` is slow compared to the batch time (batch time: 0.0044s vs `on_train_batch_end` time: 0.0365s). Check your callbacks.\n",
      "1250/1250 [==============================] - 4s 3ms/step - loss: 1.9343 - accuracy: 0.3074 - val_loss: 1.8443 - val_accuracy: 0.3577\n",
      "Epoch 2/20\n",
      "1250/1250 [==============================] - 3s 3ms/step - loss: 1.7805 - accuracy: 0.3735 - val_loss: 1.7640 - val_accuracy: 0.3773\n",
      "Epoch 3/20\n",
      "1250/1250 [==============================] - 3s 3ms/step - loss: 1.7266 - accuracy: 0.3923 - val_loss: 1.7271 - val_accuracy: 0.4009\n",
      "Epoch 4/20\n",
      "1250/1250 [==============================] - 3s 3ms/step - loss: 1.6870 - accuracy: 0.4089 - val_loss: 1.7014 - val_accuracy: 0.4079\n",
      "Epoch 5/20\n",
      "1250/1250 [==============================] - 3s 3ms/step - loss: 1.6541 - accuracy: 0.4198 - val_loss: 1.6693 - val_accuracy: 0.4208\n",
      "Epoch 6/20\n",
      "1250/1250 [==============================] - 3s 3ms/step - loss: 1.6266 - accuracy: 0.4283 - val_loss: 1.6526 - val_accuracy: 0.4206\n",
      "Epoch 7/20\n",
      "1250/1250 [==============================] - 3s 3ms/step - loss: 1.6060 - accuracy: 0.4344 - val_loss: 1.6381 - val_accuracy: 0.4251\n",
      "Epoch 8/20\n",
      "1250/1250 [==============================] - 3s 3ms/step - loss: 1.5822 - accuracy: 0.4442 - val_loss: 1.6245 - val_accuracy: 0.4335\n",
      "Epoch 9/20\n",
      "1250/1250 [==============================] - 3s 3ms/step - loss: 1.5629 - accuracy: 0.4513 - val_loss: 1.6118 - val_accuracy: 0.4311\n",
      "Epoch 10/20\n",
      "1250/1250 [==============================] - 3s 3ms/step - loss: 1.5464 - accuracy: 0.4566 - val_loss: 1.5944 - val_accuracy: 0.4409\n",
      "Epoch 11/20\n",
      "1250/1250 [==============================] - 3s 3ms/step - loss: 1.5320 - accuracy: 0.4614 - val_loss: 1.6075 - val_accuracy: 0.4363\n",
      "Epoch 12/20\n",
      "1250/1250 [==============================] - 3s 3ms/step - loss: 1.5174 - accuracy: 0.4639 - val_loss: 1.5619 - val_accuracy: 0.4533\n",
      "Epoch 13/20\n",
      "1250/1250 [==============================] - 4s 3ms/step - loss: 1.5049 - accuracy: 0.4724 - val_loss: 1.5891 - val_accuracy: 0.4382\n",
      "Epoch 14/20\n",
      "1250/1250 [==============================] - 3s 3ms/step - loss: 1.4922 - accuracy: 0.4744 - val_loss: 1.5755 - val_accuracy: 0.4444\n",
      "Epoch 15/20\n",
      "1250/1250 [==============================] - 4s 3ms/step - loss: 1.4815 - accuracy: 0.4807 - val_loss: 1.5454 - val_accuracy: 0.4546\n",
      "Epoch 16/20\n",
      "1250/1250 [==============================] - 4s 3ms/step - loss: 1.4705 - accuracy: 0.4834 - val_loss: 1.5482 - val_accuracy: 0.4549\n",
      "Epoch 17/20\n",
      "1250/1250 [==============================] - 4s 3ms/step - loss: 1.4595 - accuracy: 0.4872 - val_loss: 1.5380 - val_accuracy: 0.4555\n",
      "Epoch 18/20\n",
      "1250/1250 [==============================] - 4s 3ms/step - loss: 1.4490 - accuracy: 0.4912 - val_loss: 1.5461 - val_accuracy: 0.4510\n",
      "Epoch 19/20\n",
      "1250/1250 [==============================] - 4s 3ms/step - loss: 1.4386 - accuracy: 0.4933 - val_loss: 1.5560 - val_accuracy: 0.4562\n",
      "Epoch 20/20\n",
      "1250/1250 [==============================] - 4s 3ms/step - loss: 1.4284 - accuracy: 0.4988 - val_loss: 1.5274 - val_accuracy: 0.4613\n"
     ]
    }
   ],
   "source": [
    "tensorboard_cb=keras.callbacks.TensorBoard(root_dir)\n",
    "\n",
    "best_model = model(5,256)\n",
    "\n",
    "history=best_model.fit(X_train,y_train,epochs=20,validation_split=0.2,\n",
    "                 callbacks=[tensorboard_cb])"
   ]
  },
  {
   "cell_type": "code",
   "execution_count": 245,
   "metadata": {
    "ExecuteTime": {
     "end_time": "2021-03-07T14:37:14.366244Z",
     "start_time": "2021-03-07T12:58:47.398016Z"
    }
   },
   "outputs": [
    {
     "name": "stdout",
     "output_type": "stream",
     "text": [
      "W0307 14:58:51.475784 139662038796032 plugin_event_accumulator.py:320] Found more than one graph event per run, or there was a metagraph containing a graph_def, as well as one or more graph events.  Overwriting the graph with the newest event.\n",
      "Serving TensorBoard on localhost; to expose to the network, use a proxy or pass --bind_all\n",
      "TensorBoard 2.4.1 at http://localhost:6006/ (Press CTRL+C to quit)\n",
      "^C\n"
     ]
    }
   ],
   "source": [
    "!tensorboard --logdir=./my_logs --port=6006"
   ]
  },
  {
   "cell_type": "markdown",
   "metadata": {},
   "source": [
    "## Learning rate Scheduler"
   ]
  },
  {
   "cell_type": "code",
   "execution_count": null,
   "metadata": {},
   "outputs": [],
   "source": []
  },
  {
   "cell_type": "markdown",
   "metadata": {},
   "source": [
    "# Reduce overfitting"
   ]
  },
  {
   "cell_type": "markdown",
   "metadata": {},
   "source": [
    "## Alpha Dropout\n",
    "\n",
    "Since I am using Sequential model with activation function \"selu\", Alpha dropout is selected to do the dropout."
   ]
  },
  {
   "cell_type": "code",
   "execution_count": 174,
   "metadata": {
    "ExecuteTime": {
     "end_time": "2021-03-07T07:37:42.183987Z",
     "start_time": "2021-03-07T07:37:42.095590Z"
    }
   },
   "outputs": [],
   "source": [
    "replayer= partial(keras.layers.Dense,activation=\"selu\",kernel_initializer=\"lecun_normal\") \n",
    "\n",
    "tf.random.set_seed(42)\n",
    "np.random.seed(42)\n",
    "\n",
    "#create the model again with 5 hidden layers and 256 nodes each\n",
    "model_2 = keras.models.Sequential([\n",
    "    keras.layers.Flatten(input_shape=[32,32,3]),\n",
    "    replayer(256),\n",
    "    replayer(256),\n",
    "    keras.layers.AlphaDropout(rate=0.2,seed=42),\n",
    "    replayer(256),\n",
    "    keras.layers.AlphaDropout(rate=0.2,seed=42),\n",
    "    replayer(256),\n",
    "    keras.layers.AlphaDropout(rate=0.2,seed=42),\n",
    "    replayer(256),\n",
    "    replayer(10,activation=\"softmax\")  \n",
    "])\n",
    "\n",
    "model_2.compile(optimizer=keras.optimizers.SGD(1e-3),\n",
    "                loss=keras.losses.sparse_categorical_crossentropy,\n",
    "                metrics=\"accuracy\"\n",
    "               )"
   ]
  },
  {
   "cell_type": "code",
   "execution_count": 175,
   "metadata": {
    "ExecuteTime": {
     "end_time": "2021-03-07T07:40:15.527856Z",
     "start_time": "2021-03-07T07:38:04.653960Z"
    }
   },
   "outputs": [
    {
     "name": "stdout",
     "output_type": "stream",
     "text": [
      "Epoch 1/30\n",
      "1250/1250 [==============================] - 4s 4ms/step - loss: 2.2577 - accuracy: 0.2000 - val_loss: 2.1679 - val_accuracy: 0.3317\n",
      "Epoch 2/30\n",
      "1250/1250 [==============================] - 4s 3ms/step - loss: 2.0230 - accuracy: 0.2707 - val_loss: 2.1525 - val_accuracy: 0.3575\n",
      "Epoch 3/30\n",
      "1250/1250 [==============================] - 4s 3ms/step - loss: 1.9318 - accuracy: 0.3054 - val_loss: 2.1135 - val_accuracy: 0.3734\n",
      "Epoch 4/30\n",
      "1250/1250 [==============================] - 4s 3ms/step - loss: 1.8765 - accuracy: 0.3232 - val_loss: 2.0872 - val_accuracy: 0.3886\n",
      "Epoch 5/30\n",
      "1250/1250 [==============================] - 4s 3ms/step - loss: 1.8379 - accuracy: 0.3426 - val_loss: 2.0950 - val_accuracy: 0.3940\n",
      "Epoch 6/30\n",
      "1250/1250 [==============================] - 4s 3ms/step - loss: 1.8046 - accuracy: 0.3527 - val_loss: 2.0529 - val_accuracy: 0.4048\n",
      "Epoch 7/30\n",
      "1250/1250 [==============================] - 4s 3ms/step - loss: 1.7760 - accuracy: 0.3628 - val_loss: 2.0595 - val_accuracy: 0.4073\n",
      "Epoch 8/30\n",
      "1250/1250 [==============================] - 4s 3ms/step - loss: 1.7519 - accuracy: 0.3765 - val_loss: 2.0338 - val_accuracy: 0.4147\n",
      "Epoch 9/30\n",
      "1250/1250 [==============================] - 4s 3ms/step - loss: 1.7326 - accuracy: 0.3797 - val_loss: 2.0178 - val_accuracy: 0.4185\n",
      "Epoch 10/30\n",
      "1250/1250 [==============================] - 4s 3ms/step - loss: 1.7114 - accuracy: 0.3884 - val_loss: 2.0171 - val_accuracy: 0.4246\n",
      "Epoch 11/30\n",
      "1250/1250 [==============================] - 4s 3ms/step - loss: 1.6967 - accuracy: 0.3922 - val_loss: 2.0077 - val_accuracy: 0.4265\n",
      "Epoch 12/30\n",
      "1250/1250 [==============================] - 4s 3ms/step - loss: 1.6800 - accuracy: 0.3967 - val_loss: 1.9900 - val_accuracy: 0.4300\n",
      "Epoch 13/30\n",
      "1250/1250 [==============================] - 4s 3ms/step - loss: 1.6654 - accuracy: 0.4055 - val_loss: 1.9841 - val_accuracy: 0.4341\n",
      "Epoch 14/30\n",
      "1250/1250 [==============================] - 4s 3ms/step - loss: 1.6523 - accuracy: 0.4090 - val_loss: 1.9942 - val_accuracy: 0.4414\n",
      "Epoch 15/30\n",
      "1250/1250 [==============================] - 4s 3ms/step - loss: 1.6425 - accuracy: 0.4128 - val_loss: 1.9889 - val_accuracy: 0.4409\n",
      "Epoch 16/30\n",
      "1250/1250 [==============================] - 4s 3ms/step - loss: 1.6257 - accuracy: 0.4200 - val_loss: 1.9681 - val_accuracy: 0.4435\n",
      "Epoch 17/30\n",
      "1250/1250 [==============================] - 4s 3ms/step - loss: 1.6141 - accuracy: 0.4232 - val_loss: 1.9537 - val_accuracy: 0.4480\n",
      "Epoch 18/30\n",
      "1250/1250 [==============================] - 4s 3ms/step - loss: 1.6032 - accuracy: 0.4256 - val_loss: 1.9598 - val_accuracy: 0.4501\n",
      "Epoch 19/30\n",
      "1250/1250 [==============================] - 4s 3ms/step - loss: 1.5947 - accuracy: 0.4298 - val_loss: 1.9562 - val_accuracy: 0.4539\n",
      "Epoch 20/30\n",
      "1250/1250 [==============================] - 5s 4ms/step - loss: 1.5842 - accuracy: 0.4361 - val_loss: 1.9391 - val_accuracy: 0.4553\n",
      "Epoch 21/30\n",
      "1250/1250 [==============================] - 5s 4ms/step - loss: 1.5714 - accuracy: 0.4406 - val_loss: 1.9482 - val_accuracy: 0.4568\n",
      "Epoch 22/30\n",
      "1250/1250 [==============================] - 5s 4ms/step - loss: 1.5604 - accuracy: 0.4410 - val_loss: 1.9462 - val_accuracy: 0.4600\n",
      "Epoch 23/30\n",
      "1250/1250 [==============================] - 5s 4ms/step - loss: 1.5528 - accuracy: 0.4460 - val_loss: 1.9498 - val_accuracy: 0.4594\n",
      "Epoch 24/30\n",
      "1250/1250 [==============================] - 5s 4ms/step - loss: 1.5459 - accuracy: 0.4466 - val_loss: 1.9537 - val_accuracy: 0.4605\n",
      "Epoch 25/30\n",
      "1250/1250 [==============================] - 5s 4ms/step - loss: 1.5390 - accuracy: 0.4512 - val_loss: 1.9201 - val_accuracy: 0.4642\n",
      "Epoch 26/30\n",
      "1250/1250 [==============================] - 5s 4ms/step - loss: 1.5348 - accuracy: 0.4507 - val_loss: 1.9268 - val_accuracy: 0.4662\n",
      "Epoch 27/30\n",
      "1250/1250 [==============================] - 5s 4ms/step - loss: 1.5194 - accuracy: 0.4585 - val_loss: 1.9295 - val_accuracy: 0.4680\n",
      "Epoch 28/30\n",
      "1250/1250 [==============================] - 5s 4ms/step - loss: 1.5123 - accuracy: 0.4580 - val_loss: 1.9306 - val_accuracy: 0.4688\n",
      "Epoch 29/30\n",
      "1250/1250 [==============================] - 5s 4ms/step - loss: 1.5021 - accuracy: 0.4644 - val_loss: 1.9041 - val_accuracy: 0.4709\n",
      "Epoch 30/30\n",
      "1250/1250 [==============================] - 5s 4ms/step - loss: 1.4956 - accuracy: 0.4646 - val_loss: 1.9123 - val_accuracy: 0.4719\n"
     ]
    },
    {
     "data": {
      "text/plain": [
       "<tensorflow.python.keras.callbacks.History at 0x7fcb71f61520>"
      ]
     },
     "execution_count": 175,
     "metadata": {},
     "output_type": "execute_result"
    }
   ],
   "source": [
    "model_2.fit(X_train_new,y_train,validation_split=0.2, epochs=30)"
   ]
  },
  {
   "cell_type": "markdown",
   "metadata": {},
   "source": [
    "By using 3 dropout layers, the model is not overfitting anymore. However, the val_acc and train_acc decrease. \n",
    "\n",
    "Next, I will look at the performance of the model on the test_set with and without dropout."
   ]
  },
  {
   "cell_type": "markdown",
   "metadata": {},
   "source": [
    "### Evaluation with Alpha Dropout"
   ]
  },
  {
   "cell_type": "code",
   "execution_count": 177,
   "metadata": {
    "ExecuteTime": {
     "end_time": "2021-03-07T07:53:37.231413Z",
     "start_time": "2021-03-07T07:52:28.943117Z"
    }
   },
   "outputs": [],
   "source": [
    "#Predict the X_test_new with Dropout 100 times\n",
    "y_dropout = np.stack([model_2(X_test_new,training=True) for sample in range(100)])\n",
    "\n",
    "#calculate mean of y_dropout for each sample\n",
    "y_dropout_mean = y_dropout.mean(axis=0)"
   ]
  },
  {
   "cell_type": "code",
   "execution_count": 179,
   "metadata": {
    "ExecuteTime": {
     "end_time": "2021-03-07T07:56:04.333762Z",
     "start_time": "2021-03-07T07:56:03.694742Z"
    }
   },
   "outputs": [
    {
     "name": "stdout",
     "output_type": "stream",
     "text": [
      "The 1st instance without Dropout [0.   0.   0.06 0.38 0.   0.2  0.33 0.   0.02 0.  ]\n",
      "The 1st instance with Dropout [0.03 0.03 0.13 0.25 0.03 0.17 0.25 0.   0.09 0.  ]\n"
     ]
    }
   ],
   "source": [
    "#compare y_pred(without dropout) and y_dropout\n",
    "y_pred = model_2.predict(X_test_new)\n",
    "print(f\"The 1st instance without Dropout {np.round(y_pred[0],2)}\")\n",
    "\n",
    "print(f\"The 1st instance with Dropout {np.round(y_dropout_mean[0],2)}\")"
   ]
  },
  {
   "cell_type": "markdown",
   "metadata": {
    "slideshow": {
     "slide_type": "subslide"
    }
   },
   "source": [
    "Base on the probability for the 1st instance in the test set, it shows that:\n",
    "- Same predicted label\n",
    "- The model without Dropout give more confidence for the classes"
   ]
  },
  {
   "cell_type": "code",
   "execution_count": 198,
   "metadata": {
    "ExecuteTime": {
     "end_time": "2021-03-07T08:09:12.922431Z",
     "start_time": "2021-03-07T08:09:12.918593Z"
    }
   },
   "outputs": [],
   "source": [
    "#prediced label\n",
    "pred=np.argmax(y_dropout_mean,axis=1)\n",
    "\n",
    "#the percentage of corrected predicted label\n",
    "acc=np.sum(pred==y_test.flatten())/len(y_test)"
   ]
  },
  {
   "cell_type": "code",
   "execution_count": 199,
   "metadata": {
    "ExecuteTime": {
     "end_time": "2021-03-07T08:09:14.362167Z",
     "start_time": "2021-03-07T08:09:13.598753Z"
    }
   },
   "outputs": [
    {
     "name": "stdout",
     "output_type": "stream",
     "text": [
      "Accuracy with Dropout:0.474\n",
      "313/313 [==============================] - 0s 2ms/step - loss: 1.8621 - accuracy: 0.4771\n",
      "Accuracy without Dropout:[1.8621275424957275, 0.4771000146865845]\n"
     ]
    }
   ],
   "source": [
    "print(f\"Accuracy with Dropout:{acc}\")\n",
    "print(f\"Accuracy without Dropout:{model_2.evaluate(X_test_new,y_test)}\")"
   ]
  },
  {
   "cell_type": "markdown",
   "metadata": {},
   "source": [
    "As observed, the performance on the test_set with and without Dropout is similar"
   ]
  },
  {
   "cell_type": "markdown",
   "metadata": {},
   "source": [
    "## Regularization"
   ]
  },
  {
   "cell_type": "code",
   "execution_count": 226,
   "metadata": {
    "ExecuteTime": {
     "end_time": "2021-03-07T08:43:08.931174Z",
     "start_time": "2021-03-07T08:43:08.870221Z"
    }
   },
   "outputs": [],
   "source": [
    "replayer= partial(keras.layers.Dense,activation=\"selu\",kernel_initializer=\"lecun_normal\") \n",
    "\n",
    "tf.random.set_seed(42)\n",
    "np.random.seed(42)\n",
    "\n",
    "#create the model again with 5 hidden layers and 256 nodes each\n",
    "regu = keras.models.Sequential([\n",
    "    keras.layers.Flatten(input_shape=[32,32,3]),\n",
    "    replayer(256),\n",
    "    replayer(256,kernel_regularizer=keras.regularizers.l2(0.01)),\n",
    "    replayer(256,kernel_regularizer=keras.regularizers.l2(0.1)),\n",
    "    replayer(256,kernel_regularizer=keras.regularizers.l2(0.1)),\n",
    "    replayer(256),\n",
    "    replayer(10,activation=\"softmax\")  \n",
    "])\n",
    "\n",
    "regu.compile(optimizer=keras.optimizers.SGD(1e-3),\n",
    "                loss=keras.losses.sparse_categorical_crossentropy,\n",
    "                metrics=\"accuracy\",\n",
    "               )"
   ]
  },
  {
   "cell_type": "code",
   "execution_count": 227,
   "metadata": {
    "ExecuteTime": {
     "end_time": "2021-03-07T08:44:37.633251Z",
     "start_time": "2021-03-07T08:43:09.671661Z"
    }
   },
   "outputs": [
    {
     "name": "stdout",
     "output_type": "stream",
     "text": [
      "Epoch 1/20\n",
      "1250/1250 [==============================] - 4s 3ms/step - loss: 44.7132 - accuracy: 0.3453 - val_loss: 35.2972 - val_accuracy: 0.3889\n",
      "Epoch 2/20\n",
      "1250/1250 [==============================] - 4s 3ms/step - loss: 28.5719 - accuracy: 0.4102 - val_loss: 22.9311 - val_accuracy: 0.4062\n",
      "Epoch 3/20\n",
      "1250/1250 [==============================] - 4s 3ms/step - loss: 18.8217 - accuracy: 0.4247 - val_loss: 15.4029 - val_accuracy: 0.4178\n",
      "Epoch 4/20\n",
      "1250/1250 [==============================] - 4s 3ms/step - loss: 12.8768 - accuracy: 0.4330 - val_loss: 10.8014 - val_accuracy: 0.4265\n",
      "Epoch 5/20\n",
      "1250/1250 [==============================] - 4s 3ms/step - loss: 9.2341 - accuracy: 0.4376 - val_loss: 7.9767 - val_accuracy: 0.4262\n",
      "Epoch 6/20\n",
      "1250/1250 [==============================] - 4s 3ms/step - loss: 6.9891 - accuracy: 0.4403 - val_loss: 6.2250 - val_accuracy: 0.4306\n",
      "Epoch 7/20\n",
      "1250/1250 [==============================] - 4s 3ms/step - loss: 5.5924 - accuracy: 0.4428 - val_loss: 5.1285 - val_accuracy: 0.4357\n",
      "Epoch 8/20\n",
      "1250/1250 [==============================] - 4s 3ms/step - loss: 4.7101 - accuracy: 0.4467 - val_loss: 4.4302 - val_accuracy: 0.4352\n",
      "Epoch 9/20\n",
      "1250/1250 [==============================] - 4s 3ms/step - loss: 4.1401 - accuracy: 0.4512 - val_loss: 3.9726 - val_accuracy: 0.4389\n",
      "Epoch 10/20\n",
      "1250/1250 [==============================] - 4s 3ms/step - loss: 3.7613 - accuracy: 0.4540 - val_loss: 3.6652 - val_accuracy: 0.4403\n",
      "Epoch 11/20\n",
      "1250/1250 [==============================] - 4s 3ms/step - loss: 3.4987 - accuracy: 0.4551 - val_loss: 3.4439 - val_accuracy: 0.4449\n",
      "Epoch 12/20\n",
      "1250/1250 [==============================] - 4s 3ms/step - loss: 3.3081 - accuracy: 0.4602 - val_loss: 3.2803 - val_accuracy: 0.4459\n",
      "Epoch 13/20\n",
      "1250/1250 [==============================] - 4s 3ms/step - loss: 3.1618 - accuracy: 0.4621 - val_loss: 3.1544 - val_accuracy: 0.4454\n",
      "Epoch 14/20\n",
      "1250/1250 [==============================] - 4s 3ms/step - loss: 3.0450 - accuracy: 0.4659 - val_loss: 3.0517 - val_accuracy: 0.4502\n",
      "Epoch 15/20\n",
      "1250/1250 [==============================] - 5s 4ms/step - loss: 2.9469 - accuracy: 0.4692 - val_loss: 2.9619 - val_accuracy: 0.4501\n",
      "Epoch 16/20\n",
      "1250/1250 [==============================] - 5s 4ms/step - loss: 2.8616 - accuracy: 0.4730 - val_loss: 2.8809 - val_accuracy: 0.4544\n",
      "Epoch 17/20\n",
      "1250/1250 [==============================] - 5s 4ms/step - loss: 2.7846 - accuracy: 0.4749 - val_loss: 2.8109 - val_accuracy: 0.4576\n",
      "Epoch 18/20\n",
      "1250/1250 [==============================] - 5s 4ms/step - loss: 2.7149 - accuracy: 0.4774 - val_loss: 2.7478 - val_accuracy: 0.4550\n",
      "Epoch 19/20\n",
      "1250/1250 [==============================] - 5s 4ms/step - loss: 2.6500 - accuracy: 0.4823 - val_loss: 2.6875 - val_accuracy: 0.4565\n",
      "Epoch 20/20\n",
      "1250/1250 [==============================] - 5s 4ms/step - loss: 2.5889 - accuracy: 0.4839 - val_loss: 2.6339 - val_accuracy: 0.4573\n"
     ]
    }
   ],
   "source": [
    "regu_history = regu.fit(X_train_new,y_train,validation_split=0.2,epochs=20)"
   ]
  },
  {
   "cell_type": "markdown",
   "metadata": {
    "ExecuteTime": {
     "end_time": "2021-03-07T08:41:15.441058Z",
     "start_time": "2021-03-07T08:41:15.428623Z"
    }
   },
   "source": [
    "Different values of Alpha and number of epochs were tried. The best model´s performance so far using regulizers are 0.48 and 0.46, which is not signifinicantly overfitting anymore."
   ]
  },
  {
   "cell_type": "code",
   "execution_count": 228,
   "metadata": {
    "ExecuteTime": {
     "end_time": "2021-03-07T08:48:39.929735Z",
     "start_time": "2021-03-07T08:48:39.012210Z"
    },
    "scrolled": true
   },
   "outputs": [
    {
     "name": "stdout",
     "output_type": "stream",
     "text": [
      "313/313 [==============================] - 1s 2ms/step - loss: 2.6062 - accuracy: 0.4651\n"
     ]
    },
    {
     "data": {
      "text/plain": [
       "[2.606163501739502, 0.4650999903678894]"
      ]
     },
     "execution_count": 228,
     "metadata": {},
     "output_type": "execute_result"
    }
   ],
   "source": [
    "regu.evaluate(X_test_new,y_test)"
   ]
  },
  {
   "cell_type": "markdown",
   "metadata": {},
   "source": [
    "The accuracy in the testset after regularization is approximately 0.47, a slighly lower than the model using Dropout."
   ]
  },
  {
   "cell_type": "markdown",
   "metadata": {},
   "source": [
    "# Model inference"
   ]
  },
  {
   "cell_type": "markdown",
   "metadata": {},
   "source": [
    "For model inference, I use instance from cifar100 dataset."
   ]
  },
  {
   "cell_type": "code",
   "execution_count": 256,
   "metadata": {
    "ExecuteTime": {
     "end_time": "2021-03-07T19:53:57.961460Z",
     "start_time": "2021-03-07T19:53:56.473111Z"
    }
   },
   "outputs": [],
   "source": [
    "(X_train_,y_train_),(X_test_,y_test_) = keras.datasets.cifar100.load_data()"
   ]
  },
  {
   "cell_type": "code",
   "execution_count": 272,
   "metadata": {
    "ExecuteTime": {
     "end_time": "2021-03-07T19:58:56.666234Z",
     "start_time": "2021-03-07T19:58:56.586574Z"
    }
   },
   "outputs": [],
   "source": [
    "#predict the first 5 instances\n",
    "y_predict = regu.predict(X_train_[:5])"
   ]
  },
  {
   "cell_type": "code",
   "execution_count": 286,
   "metadata": {
    "ExecuteTime": {
     "end_time": "2021-03-07T20:11:33.487013Z",
     "start_time": "2021-03-07T20:11:33.479955Z"
    },
    "scrolled": true
   },
   "outputs": [],
   "source": [
    "predicted_label = np.argmax(y_predict,axis=1)"
   ]
  },
  {
   "cell_type": "code",
   "execution_count": 289,
   "metadata": {
    "ExecuteTime": {
     "end_time": "2021-03-07T20:11:51.032230Z",
     "start_time": "2021-03-07T20:11:51.025565Z"
    }
   },
   "outputs": [
    {
     "data": {
      "text/plain": [
       "array([19, 29,  0, 11,  1])"
      ]
     },
     "execution_count": 289,
     "metadata": {},
     "output_type": "execute_result"
    }
   ],
   "source": [
    "true_label = y_train_[:5]\n",
    "true_label.flatten()"
   ]
  },
  {
   "cell_type": "code",
   "execution_count": 295,
   "metadata": {
    "ExecuteTime": {
     "end_time": "2021-03-07T20:13:56.527398Z",
     "start_time": "2021-03-07T20:13:56.061388Z"
    }
   },
   "outputs": [
    {
     "data": {
      "image/png": "[encoded data removed]",
      "text/plain": [
       "<Figure size 1080x216 with 5 Axes>"
      ]
     },
     "metadata": {
      "needs_background": "light"
     },
     "output_type": "display_data"
    }
   ],
   "source": [
    "plt.subplots(1,5,figsize=(15,3))\n",
    "plt.suptitle(\"True labels\")\n",
    "\n",
    "for i,j in enumerate(X_train_[:5]):\n",
    "    plt.subplot(151+i) \n",
    "    plt.imshow(j)\n",
    "    plt.axis(\"off\")\n",
    "    plt.title(str(y_train_[:5][i]))"
   ]
  },
  {
   "cell_type": "code",
   "execution_count": 300,
   "metadata": {
    "ExecuteTime": {
     "end_time": "2021-03-07T20:15:03.377264Z",
     "start_time": "2021-03-07T20:15:03.369828Z"
    }
   },
   "outputs": [
    {
     "data": {
      "text/plain": [
       "array([9, 1, 1, 9, 9])"
      ]
     },
     "execution_count": 300,
     "metadata": {},
     "output_type": "execute_result"
    }
   ],
   "source": [
    "predicted_label"
   ]
  },
  {
   "cell_type": "code",
   "execution_count": 359,
   "metadata": {
    "ExecuteTime": {
     "end_time": "2021-03-07T20:36:08.806117Z",
     "start_time": "2021-03-07T20:36:08.343164Z"
    }
   },
   "outputs": [
    {
     "data": {
      "image/png": "[encoded data removed]",
      "text/plain": [
       "<Figure size 1080x216 with 5 Axes>"
      ]
     },
     "metadata": {
      "needs_background": "light"
     },
     "output_type": "display_data"
    }
   ],
   "source": [
    "class_9_index = list(np.where(y_train_==9)[0])\n",
    "class_1_index = list(np.where(y_train_==1)[0])\n",
    "\n",
    "plt.subplots(1,5,figsize=(15,3))\n",
    "plt.suptitle(\"Predicted labels\")\n",
    "\n",
    "for i,j in zip(X_train_[class_9_index[:3]],[0,3,4]):\n",
    "    plt.subplot(151+j)\n",
    "    plt.imshow(i)\n",
    "    plt.title(\"9\")\n",
    "    plt.axis(\"off\")\n",
    "\n",
    "for i,j in zip(X_train_[class_1_index[:2]],[1,2]):\n",
    "    plt.subplot(151+j)\n",
    "    plt.imshow(i)\n",
    "    plt.title(\"1\")\n",
    "    plt.axis(\"off\")\n",
    "\n"
   ]
  },
  {
   "cell_type": "code",
   "execution_count": null,
   "metadata": {},
   "outputs": [],
   "source": []
  },
  {
   "cell_type": "code",
   "execution_count": null,
   "metadata": {},
   "outputs": [],
   "source": []
  },
  {
   "cell_type": "code",
   "execution_count": null,
   "metadata": {},
   "outputs": [],
   "source": []
  },
  {
   "cell_type": "code",
   "execution_count": null,
   "metadata": {},
   "outputs": [],
   "source": []
  },
  {
   "cell_type": "code",
   "execution_count": null,
   "metadata": {},
   "outputs": [],
   "source": []
  },
  {
   "cell_type": "code",
   "execution_count": null,
   "metadata": {},
   "outputs": [],
   "source": []
  },
  {
   "cell_type": "code",
   "execution_count": null,
   "metadata": {},
   "outputs": [],
   "source": []
  },
  {
   "cell_type": "code",
   "execution_count": null,
   "metadata": {},
   "outputs": [],
   "source": []
  },
  {
   "cell_type": "code",
   "execution_count": null,
   "metadata": {},
   "outputs": [],
   "source": []
  },
  {
   "cell_type": "markdown",
   "metadata": {
    "ExecuteTime": {
     "end_time": "2021-03-07T08:09:04.481894Z",
     "start_time": "2021-03-07T08:09:04.476794Z"
    }
   },
   "source": [
    "As observed, the accuracy on the test_set (with and without Alpha dropout) is similar"
   ]
  },
  {
   "cell_type": "code",
   "execution_count": 169,
   "metadata": {
    "ExecuteTime": {
     "end_time": "2021-03-07T07:31:44.442860Z",
     "start_time": "2021-03-07T07:31:44.351188Z"
    }
   },
   "outputs": [],
   "source": [
    "tf.random.set_seed(42)\n",
    "np.random.seed(42)\n",
    "\n",
    "model_2 = keras.models.Sequential([\n",
    "    keras.layers.Flatten(input_shape=[32,32,3]),\n",
    "    keras.layers.Dense(256,activation=\"selu\",kernel_initializer=\"lecun_normal\"),\n",
    "    keras.layers.Dense(256,activation=\"selu\",kernel_initializer=\"lecun_normal\"),\n",
    "    keras.layers.Dense(256,activation=\"selu\",kernel_initializer=\"lecun_normal\"),\n",
    "    keras.layers.Dense(256,activation=\"selu\",kernel_initializer=\"lecun_normal\"),\n",
    "    keras.layers.Dense(256,activation=\"selu\",kernel_initializer=\"lecun_normal\"),\n",
    "    keras.layers.Dense(256,activation=\"selu\",kernel_initializer=\"lecun_normal\"),\n",
    "    keras.layers.Dense(256,activation=\"selu\",kernel_initializer=\"lecun_normal\"),\n",
    "    keras.layers.Dense(256,activation=\"selu\",kernel_initializer=\"lecun_normal\"),\n",
    "    keras.layers.Dense(256,activation=\"selu\",kernel_initializer=\"lecun_normal\"),\n",
    "    keras.layers.Dense(256,activation=\"selu\",kernel_initializer=\"lecun_normal\"),\n",
    "    keras.layers.Dense(10,activation=\"softmax\",kernel_initializer=\"glorot_normal\")\n",
    "])\n",
    "\n",
    "model_2.compile(loss=keras.losses.sparse_categorical_crossentropy,\n",
    "                           metrics=\"accuracy\")"
   ]
  },
  {
   "cell_type": "code",
   "execution_count": 171,
   "metadata": {
    "ExecuteTime": {
     "end_time": "2021-03-07T07:35:14.372925Z",
     "start_time": "2021-03-07T07:32:06.909587Z"
    }
   },
   "outputs": [
    {
     "name": "stdout",
     "output_type": "stream",
     "text": [
      "Epoch 1/20\n",
      "1250/1250 [==============================] - 8s 7ms/step - loss: 4.7734 - accuracy: 0.3900 - val_loss: 1.7153 - val_accuracy: 0.3882\n",
      "Epoch 2/20\n",
      "1250/1250 [==============================] - 9s 7ms/step - loss: 2.0113 - accuracy: 0.4161 - val_loss: 1.6477 - val_accuracy: 0.4002\n",
      "Epoch 3/20\n",
      "1250/1250 [==============================] - 9s 7ms/step - loss: 1.6286 - accuracy: 0.4467 - val_loss: 1.6118 - val_accuracy: 0.4302\n",
      "Epoch 4/20\n",
      "1250/1250 [==============================] - 8s 7ms/step - loss: 2.3056 - accuracy: 0.4642 - val_loss: 1.6259 - val_accuracy: 0.4451\n",
      "Epoch 5/20\n",
      "1250/1250 [==============================] - 8s 7ms/step - loss: 2.5279 - accuracy: 0.4897 - val_loss: 1.5391 - val_accuracy: 0.4815\n",
      "Epoch 6/20\n",
      "1250/1250 [==============================] - 8s 7ms/step - loss: 1.6439 - accuracy: 0.4918 - val_loss: 1.5219 - val_accuracy: 0.4800\n",
      "Epoch 7/20\n",
      "1250/1250 [==============================] - 8s 7ms/step - loss: 2.0169 - accuracy: 0.5145 - val_loss: 1.5686 - val_accuracy: 0.4780\n",
      "Epoch 8/20\n",
      "1250/1250 [==============================] - 8s 7ms/step - loss: 15.2451 - accuracy: 0.5229 - val_loss: 1.7050 - val_accuracy: 0.4531\n",
      "Epoch 9/20\n",
      "1250/1250 [==============================] - 10s 8ms/step - loss: 1.3832 - accuracy: 0.5322 - val_loss: 1.6353 - val_accuracy: 0.4574\n",
      "Epoch 10/20\n",
      "1250/1250 [==============================] - 10s 8ms/step - loss: 1.3479 - accuracy: 0.5447 - val_loss: 1.7577 - val_accuracy: 0.4815\n",
      "Epoch 11/20\n",
      "1250/1250 [==============================] - 10s 8ms/step - loss: 1.4519 - accuracy: 0.5563 - val_loss: 1.5589 - val_accuracy: 0.4808\n",
      "Epoch 12/20\n",
      "1250/1250 [==============================] - 10s 8ms/step - loss: 17.7335 - accuracy: 0.5641 - val_loss: 1.8461 - val_accuracy: 0.4788\n",
      "Epoch 13/20\n",
      "1250/1250 [==============================] - 10s 8ms/step - loss: 129.4422 - accuracy: 0.5698 - val_loss: 1.8305 - val_accuracy: 0.4911\n",
      "Epoch 14/20\n",
      "1250/1250 [==============================] - 10s 8ms/step - loss: 1.2857 - accuracy: 0.5754 - val_loss: 1.6077 - val_accuracy: 0.4731\n",
      "Epoch 15/20\n",
      "1250/1250 [==============================] - 10s 8ms/step - loss: 1.2561 - accuracy: 0.5773 - val_loss: 1.7528 - val_accuracy: 0.4770\n",
      "Epoch 16/20\n",
      "1250/1250 [==============================] - 10s 8ms/step - loss: 1.2399 - accuracy: 0.5878 - val_loss: 1.8478 - val_accuracy: 0.4937\n",
      "Epoch 17/20\n",
      "1250/1250 [==============================] - 10s 8ms/step - loss: 12.8063 - accuracy: 0.6005 - val_loss: 1.7350 - val_accuracy: 0.4532\n",
      "Epoch 18/20\n",
      "1250/1250 [==============================] - 10s 8ms/step - loss: 23.8796 - accuracy: 0.6010 - val_loss: 1.7698 - val_accuracy: 0.4788\n",
      "Epoch 19/20\n",
      "1250/1250 [==============================] - 10s 8ms/step - loss: 1.2279 - accuracy: 0.6050 - val_loss: 1.7353 - val_accuracy: 0.4932\n",
      "Epoch 20/20\n",
      "1250/1250 [==============================] - 10s 8ms/step - loss: 1.7554 - accuracy: 0.6151 - val_loss: 1.7181 - val_accuracy: 0.4604\n"
     ]
    }
   ],
   "source": [
    "model_2_history = model_2.fit(X_train_new,y_train,validation_split=0.2,epochs=20)"
   ]
  },
  {
   "cell_type": "code",
   "execution_count": null,
   "metadata": {},
   "outputs": [],
   "source": []
  }
 ],
 "metadata": {
  "kernelspec": {
   "display_name": "Python 3",
   "language": "python",
   "name": "python3"
  },
  "language_info": {
   "codemirror_mode": {
    "name": "ipython",
    "version": 3
   },
   "file_extension": ".py",
   "mimetype": "text/x-python",
   "name": "python",
   "nbconvert_exporter": "python",
   "pygments_lexer": "ipython3",
   "version": "3.8.5"
  },
  "toc": {
   "base_numbering": 1,
   "nav_menu": {},
   "number_sections": true,
   "sideBar": true,
   "skip_h1_title": false,
   "title_cell": "Table of Contents",
   "title_sidebar": "Contents",
   "toc_cell": false,
   "toc_position": {
    "height": "calc(100% - 180px)",
    "left": "10px",
    "top": "150px",
    "width": "307.2px"
   },
   "toc_section_display": true,
   "toc_window_display": true
  },
  "varInspector": {
   "cols": {
    "lenName": 16,
    "lenType": 16,
    "lenVar": 40
   },
   "kernels_config": {
    "python": {
     "delete_cmd_postfix": "",
     "delete_cmd_prefix": "del ",
     "library": "var_list.py",
     "varRefreshCmd": "print(var_dic_list())"
    },
    "r": {
     "delete_cmd_postfix": ") ",
     "delete_cmd_prefix": "rm(",
     "library": "var_list.r",
     "varRefreshCmd": "cat(var_dic_list()) "
    }
   },
   "types_to_exclude": [
    "module",
    "function",
    "builtin_function_or_method",
    "instance",
    "_Feature"
   ],
   "window_display": false
  }
 },
 "nbformat": 4,
 "nbformat_minor": 4
}
